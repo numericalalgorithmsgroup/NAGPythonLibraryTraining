{
 "cells": [
  {
   "cell_type": "markdown",
   "metadata": {},
   "source": [
    "# Getting help and running examples in the NAG Library for Python\n",
    "\n",
    "The interfaces to the NAG Library for Python are provided in the `naginterfaces.library` subpackage:"
   ]
  },
  {
   "cell_type": "code",
   "execution_count": null,
   "metadata": {},
   "outputs": [],
   "source": [
    "import naginterfaces.library as ni"
   ]
  },
  {
   "cell_type": "markdown",
   "metadata": {},
   "source": [
    "As well as the online documentation we can easily find out which chapters are available."
   ]
  },
  {
   "cell_type": "code",
   "execution_count": null,
   "metadata": {},
   "outputs": [],
   "source": [
    "help(ni)"
   ]
  },
  {
   "cell_type": "markdown",
   "metadata": {},
   "source": [
    "We can then import the relevant chapters and find out what is available within them."
   ]
  },
  {
   "cell_type": "code",
   "execution_count": null,
   "metadata": {},
   "outputs": [],
   "source": [
    "from naginterfaces.library import opt as ni_opt\n",
    "help(ni_opt)"
   ]
  },
  {
   "cell_type": "markdown",
   "metadata": {},
   "source": [
    "Numerous example scripts are bundled with your library installation too."
   ]
  },
  {
   "cell_type": "code",
   "execution_count": null,
   "metadata": {},
   "outputs": [],
   "source": [
    "import naginterfaces.library.examples\n",
    "help(naginterfaces.library.examples)"
   ]
  },
  {
   "cell_type": "markdown",
   "metadata": {},
   "source": [
    "Running the help command also provides you with instructions on how to run examples from the command line.\n",
    "\n",
    "We can also look in more detail at what exmaples are available for each chapter."
   ]
  },
  {
   "cell_type": "code",
   "execution_count": null,
   "metadata": {},
   "outputs": [],
   "source": [
    "import naginterfaces.library.examples.opt\n",
    "help(naginterfaces.library.examples.opt)"
   ]
  },
  {
   "cell_type": "markdown",
   "metadata": {},
   "source": [
    "## Running examples using the command prompt\n",
    "\n",
    "Try running the following commands from your command prompt:\n",
    "\n",
    "`python -m naginterfaces.library.examples --help`\n",
    "\n",
    "`python -m naginterfaces.library.examples --locate`\n",
    "\n",
    "You can then run specific examples, e.g. this example tells you about the details of your NAG Library for Python installation:\n",
    "\n",
    "`python -m naginterfaces.library.examples.info.impl_details_ex`\n",
    "\n",
    "To find out where the associated file is try:\n",
    "\n",
    "`python -m pydoc naginterfaces.library.examples.info.impl_details_ex`"
   ]
  }
 ],
 "metadata": {
  "kernelspec": {
   "display_name": "Python 3",
   "language": "python",
   "name": "python3"
  },
  "language_info": {
   "codemirror_mode": {
    "name": "ipython",
    "version": 3
   },
   "file_extension": ".py",
   "mimetype": "text/x-python",
   "name": "python",
   "nbconvert_exporter": "python",
   "pygments_lexer": "ipython3",
   "version": "3.9.2"
  },
  "latex_envs": {
   "LaTeX_envs_menu_present": true,
   "autoclose": false,
   "autocomplete": true,
   "bibliofile": "biblio.bib",
   "cite_by": "apalike",
   "current_citInitial": 1,
   "eqLabelWithNumbers": true,
   "eqNumInitial": 1,
   "hotkeys": {
    "equation": "Ctrl-E",
    "itemize": "Ctrl-I"
   },
   "labels_anchors": false,
   "latex_user_defs": false,
   "report_style_numbering": false,
   "user_envs_cfg": false
  }
 },
 "nbformat": 4,
 "nbformat_minor": 2
}
