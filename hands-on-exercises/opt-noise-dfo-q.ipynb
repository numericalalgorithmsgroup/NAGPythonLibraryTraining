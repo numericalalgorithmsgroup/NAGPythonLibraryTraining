{
 "cells": [
  {
   "cell_type": "markdown",
   "metadata": {},
   "source": [
    "![title](../NAG_logo.png)\n",
    "#  Noisy Nonlinear Programming exercise\n",
    "\n",
    "For this exercise you will experiment with functions that exhibit systemic noise and how classical optimization methods compare with DFO solvers. The main idea is to repeatedly solve the problem for an increasing amount of noise level (increasing the variance of the generated white noise) and observe how a classical method (say, FOAS) compares with a DFO (say, `handle_solve_dfno`, see documentation) solver.\n",
    "\n",
    " * Fix the notebook so `handle_solve_bounds_foas` solves the problem using finite-differences to approximate the gradient of the objective function, so just provide and **empty** `objgrd` that returns `inform = 0`. Tip: see documentation how to request the solver to estimate the derivatives.\n",
    " \n",
    " * Run this notebook for a variety of noise levels, record your findings in a table similar to\n",
    " \n",
    " \n",
    " | Solver | Noise level (var, $\\sigma^2$)       | Solution quality, or other metric |\n",
    " |--------|------------------------|------------|\n",
    " |`handle_solve_bouns_foas`        | $0.0$      |\n",
    " &nbsp;                            | $10^{-12}$ |\n",
    " &nbsp;                            | $10^{-11}$ |\n",
    " &nbsp;                            | $10^{-10}$ |\n",
    " &nbsp;                            | $10^{-9}$  |\n",
    " &nbsp;                            | $10^{-8}$  |\n",
    " &nbsp;                            | $10^{-7}$  |\n",
    " &nbsp;                            | $10^{-6}$  |\n",
    " |`handle_solve_dfno`              | $0.0$      |\n",
    " &nbsp;                            | $10^{-12}$ |\n",
    " &nbsp;                            | $10^{-11}$ |\n",
    " &nbsp;                            | $10^{-10}$ |\n",
    " &nbsp;                            | $10^{-9}$  |\n",
    " &nbsp;                            | $10^{-8}$  |\n",
    " &nbsp;                            | $10^{-7}$  |\n",
    " &nbsp;                            | $10^{-6}$  |\n",
    " \n",
    " \n",
    " * Substitute FOAS solver for a DFO solver and repear the experiment, record your findings in the previous table.\n",
    "  \n",
    " * Describe your findings\n",
    "\n",
    "### Installing the NAG library and running this notebook\n",
    "\n",
    "This notebook depends on the NAG library for Python to run. Please read the instructions in the [Readme.md](https://github.com/numericalalgorithmsgroup/NAGPythonExamples/blob/master/local_optimization/Readme.md#install) file to download, install and obtain a licence for the library.\n",
    "\n",
    "Instruction on how to run the notebook can be found [here](https://github.com/numericalalgorithmsgroup/NAGPythonExamples/blob/master/local_optimization/Readme.md#jupyter)."
   ]
  },
  {
   "cell_type": "markdown",
   "metadata": {},
   "source": [
    "# Rosenbrock function: Bound constrained optimization\n",
    "First order active set bound-constrained nonlinear programming\n",
    "\n",
    "2d Rosenbrock example: This notebook illustrates the usage of FOAS to solve the bound-constrained 2d Rosenbrock function. It produces a plot showing the steps taken by the solver to find the solution point."
   ]
  },
  {
   "cell_type": "code",
   "execution_count": 1,
   "metadata": {},
   "outputs": [],
   "source": [
    "from naginterfaces.base import utils\n",
    "from naginterfaces.library import opt\n",
    "from naginterfaces.library import rand"
   ]
  },
  {
   "cell_type": "code",
   "execution_count": 2,
   "metadata": {},
   "outputs": [],
   "source": [
    "# Create a state structure for a repeatable sequence,\n",
    "# using the NAG basic generator (genid=1):\n",
    "statecomm = rand.init_repeat(genid=1, subid=1, seed=[1762543])\n",
    "xmu = 0.0\n",
    "n = 1"
   ]
  },
  {
   "cell_type": "code",
   "execution_count": 3,
   "metadata": {},
   "outputs": [],
   "source": [
    "# Specify the noise level using as proxy the variance\n",
    "#var = 1.0e-5\n",
    "#var = 1.0e-6\n",
    "#var = 1.0e-7\n",
    "#var = 1.0e-8\n",
    "#var = 1.0e-9\n",
    "#var = 1.0e-10\n",
    "#var = 1.0e-11\n",
    "#var = 1.0e-12\n",
    "var = 0.0"
   ]
  },
  {
   "cell_type": "markdown",
   "metadata": {},
   "source": [
    "Add objective function, gradient and monitoring callback"
   ]
  },
  {
   "cell_type": "code",
   "execution_count": 4,
   "metadata": {},
   "outputs": [],
   "source": [
    "def objfun(x, inform): \n",
    "    noise = rand.dist_normal(n, xmu, var, statecomm)[0]\n",
    "    return ((1. - x[0])**2 + 100.*(x[1] - x[0]**2)**2 + noise, inform)\n",
    "\n",
    "def objgrd(x, fdx, inform):\n",
    "    \"\"\" No objective's gradient provided \"\"\"\n",
    "    inform = -1\n",
    "    return inform\n",
    "\n",
    "\n",
    "steps = []\n",
    "def monit(x, rinfo, _stats, _data=None):\n",
    "    \"\"\"The monitor function.\"\"\"\n",
    "    steps.append([x[0], x[1], rinfo[0]])\n"
   ]
  },
  {
   "cell_type": "markdown",
   "metadata": {},
   "source": [
    "Specify initial guess and do not change during the experimentation"
   ]
  },
  {
   "cell_type": "code",
   "execution_count": 5,
   "metadata": {},
   "outputs": [],
   "source": [
    "x = [-0.8, -0.0]"
   ]
  },
  {
   "cell_type": "markdown",
   "metadata": {},
   "source": [
    "Define the nonlinear objective (add to handle)"
   ]
  },
  {
   "cell_type": "code",
   "execution_count": 6,
   "metadata": {},
   "outputs": [],
   "source": [
    "nvar = len(x)\n",
    "handle = opt.handle_init(nvar)\n",
    "opt.handle_set_nlnobj(handle, idxfd=list(range(1, nvar+1)))"
   ]
  },
  {
   "cell_type": "markdown",
   "metadata": {},
   "source": [
    "Add the box bounds on the variable x to the handle"
   ]
  },
  {
   "cell_type": "code",
   "execution_count": 7,
   "metadata": {},
   "outputs": [],
   "source": [
    "bl = [-1.0, -2.]\n",
    "bu = [ 1.1,  2.]\n",
    "opt.handle_set_simplebounds(\n",
    "    handle,\n",
    "    bl=bl,\n",
    "    bu=bu,\n",
    ")"
   ]
  },
  {
   "cell_type": "markdown",
   "metadata": {},
   "source": [
    "Set some algorithmic options"
   ]
  },
  {
   "cell_type": "code",
   "execution_count": 8,
   "metadata": {},
   "outputs": [],
   "source": [
    "for option in [\n",
    "    'FOAS Print Frequency = 1',\n",
    "    'Print Solution = yes',\n",
    "    'FOAS Monitor Frequency = 1',\n",
    "    'Print Level = 2',\n",
    "    'Monitoring Level = 1',\n",
    "    'FOAS Estimate Derivatives = No',\n",
    "]:\n",
    "    opt.handle_opt_set(handle, option)"
   ]
  },
  {
   "cell_type": "markdown",
   "metadata": {},
   "source": [
    "Use an explicit I/O manager for abbreviated iteration output"
   ]
  },
  {
   "cell_type": "code",
   "execution_count": 9,
   "metadata": {},
   "outputs": [],
   "source": [
    "iom = utils.FileObjManager(locus_in_output=False)"
   ]
  },
  {
   "cell_type": "markdown",
   "metadata": {},
   "source": [
    "Solve the problem"
   ]
  },
  {
   "cell_type": "code",
   "execution_count": 10,
   "metadata": {},
   "outputs": [
    {
     "name": "stdout",
     "output_type": "stream",
     "text": [
      "\n",
      " ----------------------------------------------------------\n",
      "  E04KF, First order method for bound-constrained problems\n",
      " ----------------------------------------------------------\n",
      "\n",
      " Begin of Options\n",
      "     Print File                    =                   9     * d\n",
      "     Print Level                   =                   2     * U\n",
      "     Print Options                 =                 Yes     * d\n",
      "     Print Solution                =                 All     * U\n",
      "     Monitoring File               =                  -1     * d\n",
      "     Monitoring Level              =                   1     * U\n",
      "     Foas Monitor Frequency        =                   1     * U\n",
      "     Foas Print Frequency          =                   1     * U\n",
      "\n",
      "     Infinite Bound Size           =         1.00000E+20     * d\n",
      "     Task                          =            Minimize     * d\n",
      "     Stats Time                    =                  No     * d\n",
      "     Time Limit                    =         1.00000E+06     * d\n",
      "     Verify Derivatives            =                  No     * d\n",
      "\n",
      "     Foas Estimate Derivatives     =                  No     * U\n",
      "     Foas Finite Diff Interval     =         1.05367E-08     * d\n",
      "     Foas Iteration Limit          =            10000000     * d\n",
      "     Foas Memory                   =                  11     * d\n",
      "     Foas Progress Tolerance       =         1.08158E-12     * d\n",
      "     Foas Rel Stop Tolerance       =         1.08158E-12     * d\n",
      "     Foas Restart Factor           =         6.00000E+00     * d\n",
      "     Foas Slow Tolerance           =         1.01316E-02     * d\n",
      "     Foas Stop Tolerance           =         1.00000E-06     * d\n",
      "     Foas Tolerance Norm           =            Infinity     * d\n",
      " End of Options\n",
      "\n",
      " Problem Statistics\n",
      "   No of variables                  2\n",
      "     free (unconstrained)           0\n",
      "     bounded                        2\n",
      "   Objective function       Nonlinear\n",
      "\n",
      " -------------------------------------------------------------------------------\n",
      " Status: aborted, the starting point is unusable\n",
      " -------------------------------------------------------------------------------\n",
      "\n",
      " Primal variables:\n",
      "   idx   Lower bound       Value       Upper bound\n",
      "     1  -1.00000E+00   -8.00000E-01    1.10000E+00\n",
      "     2  -2.00000E+00    0.00000E+00    2.00000E+00\n",
      "\n",
      "Seems you have not requested to use finite-differences, or the starting point is unusable!\n",
      "\n",
      "** The current starting point is unusable.\n"
     ]
    }
   ],
   "source": [
    "try:\n",
    "    ret = opt.handle_solve_bounds_foas(handle, x, objfun=objfun, objgrd=objgrd, monit=monit, io_manager=iom)\n",
    "except utils.NagValueError as e:\n",
    "    if e.errno == 21:\n",
    "        # Error 21 indicates starting point x0 was unusable in either objfun or objgrd...\n",
    "        print('\\nSeems you have not requested to use finite-differences, or the starting point is unusable!\\n{}'.format(e.msg))\n",
    "    else:\n",
    "        print('Problem could not be solved! Reason:\\n{}'.format(e.msg))"
   ]
  },
  {
   "cell_type": "code",
   "execution_count": 11,
   "metadata": {},
   "outputs": [
    {
     "ename": "NameError",
     "evalue": "name 'ret' is not defined",
     "output_type": "error",
     "traceback": [
      "\u001b[0;31m---------------------------------------------------------------------------\u001b[0m",
      "\u001b[0;31mNameError\u001b[0m                                 Traceback (most recent call last)",
      "Input \u001b[0;32mIn [11]\u001b[0m, in \u001b[0;36m<cell line: 1>\u001b[0;34m()\u001b[0m\n\u001b[0;32m----> 1\u001b[0m steps\u001b[38;5;241m.\u001b[39mappend([\u001b[43mret\u001b[49m\u001b[38;5;241m.\u001b[39mx[\u001b[38;5;241m0\u001b[39m], ret\u001b[38;5;241m.\u001b[39mx[\u001b[38;5;241m1\u001b[39m], ret\u001b[38;5;241m.\u001b[39mrinfo[\u001b[38;5;241m0\u001b[39m]]) \u001b[38;5;66;03m# Add last step\u001b[39;00m\n\u001b[1;32m      2\u001b[0m \u001b[38;5;28;01mimport\u001b[39;00m \u001b[38;5;21;01mnumpy\u001b[39;00m \u001b[38;5;28;01mas\u001b[39;00m \u001b[38;5;21;01mnp\u001b[39;00m\n",
      "\u001b[0;31mNameError\u001b[0m: name 'ret' is not defined"
     ]
    }
   ],
   "source": [
    "steps.append([ret.x[0], ret.x[1], ret.rinfo[0]]) # Add last step\n",
    "import numpy as np"
   ]
  },
  {
   "cell_type": "markdown",
   "metadata": {},
   "source": [
    "Destroy the handle"
   ]
  },
  {
   "cell_type": "code",
   "execution_count": null,
   "metadata": {},
   "outputs": [],
   "source": [
    "opt.handle_free(handle)"
   ]
  },
  {
   "cell_type": "markdown",
   "metadata": {},
   "source": [
    "Evaluate the funtion over the domain"
   ]
  },
  {
   "cell_type": "code",
   "execution_count": null,
   "metadata": {},
   "outputs": [],
   "source": [
    "x_m = np.linspace(bl[0]-0.5, bu[0]+0.5, 101)\n",
    "y_m = np.linspace(bl[1]-0.5, bu[1]+0.5, 101)\n",
    "z_m = np.empty((101, 101))\n",
    "j = y_m[0]\n",
    "for i in range(0, 101):\n",
    "    for j in range(0, 101):\n",
    "        z_m[i, j], _inform = objfun([x_m[i], y_m[j]], 1)\n",
    "nb = 25\n",
    "x_box = np.linspace(bl[0], bu[0], nb)\n",
    "y_box = np.linspace(bl[1], bu[1], nb)\n",
    "box = np.array([np.concatenate([x_box, bu[0]*np.ones(nb), x_box[::-1], bl[0]*np.ones(nb)]),\n",
    "      np.concatenate([bl[1]*np.ones(nb), y_box, bu[1]*np.ones(nb), y_box[::-1]])])\n",
    "z_box = np.empty(box[0].shape)\n",
    "for i in range(0, (box[0].size)):\n",
    "    z_box[i], _inform = objfun([box[0][i], box[1][i]], 1)\n",
    "\n",
    "X, Y = np.meshgrid(x_m, y_m, indexing='ij')"
   ]
  },
  {
   "cell_type": "markdown",
   "metadata": {},
   "source": [
    "Plot function and steps taken"
   ]
  },
  {
   "cell_type": "code",
   "execution_count": null,
   "metadata": {},
   "outputs": [],
   "source": [
    "# Select the display backend for Jupyter:\n",
    "%matplotlib nbagg\n",
    "steps = np.column_stack(steps)"
   ]
  },
  {
   "cell_type": "code",
   "execution_count": null,
   "metadata": {},
   "outputs": [],
   "source": [
    "import matplotlib.pyplot as plt\n",
    "from matplotlib import cm\n",
    "ax = plt.figure().add_subplot(projection='3d')\n",
    "ax.grid(False)\n",
    "ax.plot(box[0], box[1], z_box, 'k-', linewidth=1.5)\n",
    "ax.plot([bl[0], bu[0], bu[0], bl[0], bl[0]], [bl[1], bl[1], bu[1], bu[1], bl[1]], -1.2*np.ones(5), 'k-')\n",
    "ax.contour(X, Y, z_m, 15, offset=-1.2, cmap=cm.jet)\n",
    "ax.plot_surface(X, Y, z_m, cmap=cm.jet, alpha=0.5)\n",
    "ax.set_title('Rosenbrock Function')\n",
    "ax.set_xlabel(r'$\\mathit{x}$')\n",
    "ax.set_ylabel(r'$\\mathit{y}$')\n",
    "ax.plot(steps[0], steps[1], steps[2], 'o-', color='red', markersize=3, linewidth=2)\n",
    "ax.azim = 160\n",
    "ax.elev = 35\n",
    "plt.show()"
   ]
  },
  {
   "cell_type": "markdown",
   "metadata": {},
   "source": [
    "# Obtaining the NAG Library for Python\n",
    "\n",
    "The [NAG Library for Python](https://www.nag.com/content/nag-library-python) is commercially licensed software but this notebook is licensed under the [BSD 3-Clause License](https://github.com/numericalalgorithmsgroup/NAGPythonExamples/blob/master/LICENSE)\n",
    "* [Click here](https://github.com/numericalalgorithmsgroup/NAGPythonExamples#nag-library-for-python-installation) for NAG Library for Python installation details\n",
    "* [Click here](https://github.com/numericalalgorithmsgroup/NAGPythonExamples#obtaining-a-license) for details on how to obtain a license for the NAG Library for Python"
   ]
  }
 ],
 "metadata": {
  "kernelspec": {
   "display_name": "Python 3 (ipykernel)",
   "language": "python",
   "name": "python3"
  },
  "language_info": {
   "codemirror_mode": {
    "name": "ipython",
    "version": 3
   },
   "file_extension": ".py",
   "mimetype": "text/x-python",
   "name": "python",
   "nbconvert_exporter": "python",
   "pygments_lexer": "ipython3",
   "version": "3.8.10"
  },
  "latex_envs": {
   "LaTeX_envs_menu_present": true,
   "autoclose": false,
   "autocomplete": true,
   "bibliofile": "biblio.bib",
   "cite_by": "apalike",
   "current_citInitial": 1,
   "eqLabelWithNumbers": true,
   "eqNumInitial": 1,
   "hotkeys": {
    "equation": "Ctrl-E",
    "itemize": "Ctrl-I"
   },
   "labels_anchors": false,
   "latex_user_defs": false,
   "report_style_numbering": false,
   "user_envs_cfg": false
  }
 },
 "nbformat": 4,
 "nbformat_minor": 2
}
