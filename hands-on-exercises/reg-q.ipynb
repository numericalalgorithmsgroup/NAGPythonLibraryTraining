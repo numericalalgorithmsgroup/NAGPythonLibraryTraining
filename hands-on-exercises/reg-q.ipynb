{
 "cells": [
  {
   "cell_type": "markdown",
   "metadata": {},
   "source": [
    "![title](../NAG_logo.png)\n",
    "# Regression\n",
    "\n",
    "## Fitting linear regression models\n",
    "\n",
    "The `correg.linregm_fit` function fits a linear (multiple) regression model for a set of independent variables $\\mathbf{x}_1,\\ldots,\\mathbf{x}_m$ and dependent observations $\\mathbf{y}=(y_1,\\ldots,y_n)$.\n",
    "\n",
    "For illustrative purposes the exercises use synthetically generated data.  Here the distribution of $\\mathbf{y}$ given $\\mathbf{x}_1,\\ldots,\\mathbf{x}_m$ is normal.\n",
    "\n",
    "Use the code below to generate synthetic observations.  Find the example for `correg.linregm_fit`.  Use it to help you fit a linear regression model to the synthetic observations.  Print out standard errors of the parameter estimates.\n",
    "\n",
    "How does the standard error of parameter estimates change with the number of observations, $n$?\n",
    "\n",
    "*Note*: you can locate the source code for all the examples by running,\n",
    "\n",
    "`python -m naginterfaces.library.examples --locate` \n",
    "\n",
    "from the command-line."
   ]
  },
  {
   "cell_type": "code",
   "execution_count": 1,
   "metadata": {},
   "outputs": [],
   "source": [
    "# import modules\n",
    "# The numpy and naginterfaces imports will become used by your solution:\n",
    "import numpy as np # pylint: disable=unused-import\n",
    "from naginterfaces.library import correg # pylint: disable=unused-import\n",
    "from naginterfaces.library import rand\n",
    "import reg_fun\n",
    "# make sure modules are reloaded if we are make changes\n",
    "import importlib\n",
    "importlib.reload(reg_fun)\n",
    "\n",
    "# number of independent variables\n",
    "m = 5\n",
    "# number of observations\n",
    "n = 2e1\n",
    "# initialize RNG\n",
    "# statecomm = rand.init_nonrepeat(genid=3)          # either with a random seed\n",
    "statecomm = rand.init_repeat(genid=3, seed=[32958]) # or with a fixed seed\n",
    "    \n",
    "# The independent variables:\n",
    "x = reg_fun.gen_multivar_x(m, n, statecomm)\n",
    "# The observations:\n",
    "y = reg_fun.gen_obs(x, statecomm)"
   ]
  },
  {
   "cell_type": "markdown",
   "metadata": {},
   "source": [
    "## Fitting Generalized Linear Models (GLMs)\n",
    "\n",
    "The `correg.glm_normal` function fits a GLM with normally distributed errors, again for a set of independent variables $\\mathbf{x}_1,\\ldots,\\mathbf{x}_m$ and dependent observations $\\mathbf{y}=(y_1,\\ldots,y_n)$.\n",
    "\n",
    "Identify a value for the `link` argument that results in the same linear regression model as the previous exercise.  Use `correg.glm_normal` to fit the same data as in the previous exercise.  Check that you get the same parameter estimates."
   ]
  },
  {
   "cell_type": "markdown",
   "metadata": {},
   "source": [
    "## GLM prediction intervals\n",
    "\n",
    "Generate some more synthetic data.  Use the `correg.glm_predict` function to make predictions for these new observations.  Calculate the Root Mean Squared Error (RMSE) of the predictions.  Compare with the standard errors output by `correg.glm_predict`."
   ]
  },
  {
   "cell_type": "markdown",
   "metadata": {},
   "source": [
    "## Identifying outliers\n",
    "\n",
    "Suppose that there is an error in one of the entries in your dataset, e.g., someone added a couple of extra zeros to an observation by mistake when recording the data.\n",
    "\n",
    "Use the code below to explore what effect this has on fitting.  How do the regression coefficents change?  Extract the residuals and the leverages from the auxiliary information / output of the fitting.  Which of these can be used to identify the outlier / erroneous observation?\n",
    "\n",
    "*Hint:* to ease printing of multiple output columns copy the output you are interested in to a `pandas` DataFrame."
   ]
  },
  {
   "cell_type": "code",
   "execution_count": 2,
   "metadata": {},
   "outputs": [],
   "source": [
    "xc = x.copy()  # copy x\n",
    "xc[2,3] = 100.0 * x[2,3] # make 1 data point an outlier (3rd observation, 4th variable)"
   ]
  }
 ],
 "metadata": {
  "kernelspec": {
   "display_name": "Python 3 (ipykernel)",
   "language": "python",
   "name": "python3"
  },
  "language_info": {
   "codemirror_mode": {
    "name": "ipython",
    "version": 3
   },
   "file_extension": ".py",
   "mimetype": "text/x-python",
   "name": "python",
   "nbconvert_exporter": "python",
   "pygments_lexer": "ipython3",
   "version": "3.8.10"
  }
 },
 "nbformat": 4,
 "nbformat_minor": 2
}
