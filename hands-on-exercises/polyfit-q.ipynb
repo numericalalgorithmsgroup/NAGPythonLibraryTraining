{
 "cells": [
  {
   "cell_type": "markdown",
   "metadata": {},
   "source": [
    "![title](../nag_logo.png)\n",
    "\n",
    "# Exercises - interpolation\n",
    "\n",
    "The first part of this exercise asks you to solve a polynomial interpolation problem using functions from Linear Equations (LAPACK) chapter of the NAG library, `lapacklin`.\n",
    "\n",
    "The second part requires you to use a routine from the interpolation chapter (`interp`) of the NAG library.  This part is easier and will produce a function with less unwanted variation than a simple polynomial.\n",
    "\n",
    "\n",
    "## Fit a simple polynomial interpolant\n",
    "\n",
    "Construct a simple polynomial interpolant, $p(x) = a_n x^n + a_{n-1}x^{n-1} + \\ldots a_2 x^2 + a_1 x + a_0$, to the data points below.\n",
    "\n",
    "_Hint_: formulate the problem as a system of simultaneous equations and use `lapacklin.dgesv` to solve for the coefficients.\n"
   ]
  },
  {
   "cell_type": "code",
   "execution_count": 1,
   "metadata": {},
   "outputs": [],
   "source": [
    "x = [ -1.5, -1.25, -1.0, -0.75, -0.5, -0.25, 0.0, 0.25, 0.5, 0.75, 1.0, 1.25, 1.5 ]\n",
    "y = [ 0.0, 0.25, 0.5, 1.25, 3.0, 6.0, 8.0, 6.0, 3.0, 1.25, 0.5, 0.25, 0.0 ]\n",
    "\n",
    "# import libraries\n",
    "# The naginterfaces import will become used by your solution:\n",
    "from naginterfaces.library import lapacklin # pylint: disable=unused-import\n",
    "import numpy as np\n",
    "from matplotlib import pyplot as plt\n",
    "# set some global options\n",
    "np.set_printoptions(precision=2,suppress=True)\n",
    "plt.rcParams.update({'font.size': 14})"
   ]
  },
  {
   "cell_type": "markdown",
   "metadata": {},
   "source": [
    "## Fit an interpolant that is piecewise monotonic\n",
    "\n",
    "If you completed the previous exercise successfully, you should have seen that the simple fitted polynomial produced unwanted oscillations between data points.\n",
    "\n",
    "Using the [Interpolation chapter introduction](https://www.nag.com/numeric/fl/nagdoc_fl26.2/html/e01/e01intro.html), identify a routine that fits functions of one variable using only the function values at a set of interpolation points.  Impose monotonicity on the interpolating function.  \n",
    "\n",
    "You will then need to find the Python name for this routine by searching through the interpolation Submodule page in the Python documentation.  Each Submodule page also contains a link to the corresponding Chapter introduction in the NAG Fortran library.  Search for _intro_ in the Python Submodule documentation to find this link.\n",
    "\n",
    "Do the interpolation, plot the results and compare with the results from simple polynomial interpolation."
   ]
  }
 ],
 "metadata": {
  "kernelspec": {
   "display_name": "Python 3",
   "language": "python",
   "name": "python3"
  },
  "language_info": {
   "codemirror_mode": {
    "name": "ipython",
    "version": 3
   },
   "file_extension": ".py",
   "mimetype": "text/x-python",
   "name": "python",
   "nbconvert_exporter": "python",
   "pygments_lexer": "ipython3",
   "version": "3.8.0"
  }
 },
 "nbformat": 4,
 "nbformat_minor": 2
}
