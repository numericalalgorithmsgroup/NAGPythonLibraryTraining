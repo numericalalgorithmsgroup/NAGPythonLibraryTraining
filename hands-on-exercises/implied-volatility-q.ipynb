{
 "cells": [
  {
   "cell_type": "markdown",
   "metadata": {},
   "source": [
    "![title](../nag_logo.png)\n",
    "\n",
    "# Exercises - Implied Volatility\n",
    "\n",
    "## Question 1\n",
    "\n",
    "The NAG function `specfun.opt_bsm_price` returns the price of a simple European call option and takes the following inputs:\n",
    "- S: the initial stock price \n",
    "- K: the strike price \n",
    "- T: the maturity\n",
    "- r: the interest rate \n",
    "- q: the dividend rate \n",
    "- $\\sigma$: the volatility\n",
    "\n",
    "Call `specfun.opt_bsm_price` to return the price of a simple European call option with the following parameters:\n",
    "- S = 100 \n",
    "- K = 90 \n",
    "- T = 1.5\n",
    "- r = 0.03 \n",
    "- q = 0.015 \n",
    "- $\\sigma$ = 0.09\n",
    "\n",
    "You should get an answer of $12.35008695$."
   ]
  },
  {
   "cell_type": "markdown",
   "metadata": {},
   "source": [
    "## Question 2\n",
    "\n",
    "Refer to the documentation for `roots.contfn_cntin`. We are now going to write a program to compute the Black Scholes implied volatility for a given call option price and set of parameters. In other words, given a call option price, C, and values of S, K, T, r, q, find the value of $\\sigma$ so that the Black Scholes formula gives the target price C. Using the template below define a function `bs` for evaluating the option price as a function of $\\sigma$.  \n",
    "\n",
    "Note the other parameters will still need to be supplied.  Create an array named user to hold 6 values. Assign S, K, T, r, q and Ctarget to the 6 elements of the array user.  In your function `bs`, assign the first 5 members of the user array to variables S, K, T, r and q, and call `specfun.opt_bsm_price` to compute the price of a call option. Return the difference between this price and the 6th member of your user array, Ctarget.\n",
    "\n",
    "In your main program, call `nag_roots_contfn_cntin` and pass it `bs` as the function of which the zero is to be computed. Set eps = eta = 1.0e-6 and set nfmax = 1500.\n",
    "1. Use your program to compute the implied volatility for a (target) call\n",
    "option price of 12.35008695 and S = 100, K = 90, T = 1.5, r = 0.03, q = 0.015.  Use an initial guess of $\\sigma$ = 0.15.\n",
    "2. Use your program to compute the implied volatility for a (target) call\n",
    "option price of 25.5 and S = 100, K = 90, T = 1.5, r = 0.03, q = 0.015.  Use an initial guess of $\\sigma$ = 0.15.\n",
    "\n",
    "### Numerical Answers\n",
    "\n",
    "1. For target price 12.35008695 you should get an answer of 0.09000096.\n",
    "2. For target price 25.5 you should get an answer of 0.42993841.\n"
   ]
  }
 ],
 "metadata": {
  "kernelspec": {
   "display_name": "Python 3",
   "language": "python",
   "name": "python3"
  },
  "language_info": {
   "codemirror_mode": {
    "name": "ipython",
    "version": 3
   },
   "file_extension": ".py",
   "mimetype": "text/x-python",
   "name": "python",
   "nbconvert_exporter": "python",
   "pygments_lexer": "ipython3",
   "version": "3.8.0"
  }
 },
 "nbformat": 4,
 "nbformat_minor": 2
}
