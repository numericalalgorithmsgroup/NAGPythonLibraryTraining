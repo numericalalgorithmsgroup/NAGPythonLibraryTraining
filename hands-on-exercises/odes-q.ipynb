{
 "cells": [
  {
   "cell_type": "markdown",
   "metadata": {},
   "source": [
    "![title](../nag_logo.png)\n",
    "\n",
    "# Exercises - Ordinary Differential Equations\n",
    "\n",
    "The `ode.ivp_rkts_range` function uses a Runge-Kutta (R-K) method to solve a first order system of Ordinary Differential Equations (ODEs).  Use this function to solve the following system of four differential equations:\n",
    "\n",
    "$$\\begin{aligned}\n",
    "y_0^{\\prime} & = - y_3 - 2 \\exp(-t) \\\\\n",
    "y_1^{\\prime} &= 2 \\exp(-t) - y_0 \\\\\n",
    "y_2^{\\prime} &= - y_0^{\\prime} - y_2 - y_0 \\\\\n",
    "y_3^{\\prime} &= y_0\n",
    "\\end{aligned}$$\n",
    "\n",
    "with initial condition $y = (1,0,1,-2)$, and integrating from $t=0$ to $t=1$.\n",
    "\n",
    "In addition to `ode.ivp_rkts_range` you will need to use the setup function `ode.ivp_rkts_setup`\n",
    "\n",
    "Solve the system using several different tolerances by adjusting the `tol` parameter in `ode.ivp_rkts_setup`.  Solve the system using several different Runge-Kutta methods by changing the `method` parameter.\n",
    "\n",
    "See how the results you obtain increase in accuracy as the tolerance gets smaller.  The analytical solution for $y_0$ is $\\exp(-t) + \\sin(t)$, so you can compare this with the result for $y_0$ obtained with `ode.ivp_rkts_range`.\n",
    "\n",
    "Use `ode.ivp_rkts_diag` to return the total number of function evaluations made by the solver.  See how this varies for different Runge-Kutte methods.  Which method is most efficient?\n",
    "\n",
    "To save you some time, here is the callable function you will need to use as an argument to `ode.ivp_rkts_range`."
   ]
  },
  {
   "cell_type": "code",
   "execution_count": 1,
   "metadata": {},
   "outputs": [],
   "source": [
    "# Define RHS of ODE system\n",
    "def f(t,y):  \n",
    "    import math\n",
    "    yp = np.empty(y.shape)\n",
    "    yp[0] = -y[3] - 2.0 * math.exp(-t)\n",
    "    yp[1] = 2.0 * math.exp(-t) - y[0]\n",
    "    yp[2] = -yp[0] - y[2] - y[0]\n",
    "    yp[3] = y[0]\n",
    "    return yp"
   ]
  }
 ],
 "metadata": {
  "kernelspec": {
   "display_name": "Python 3",
   "language": "python",
   "name": "python3"
  },
  "language_info": {
   "codemirror_mode": {
    "name": "ipython",
    "version": 3
   },
   "file_extension": ".py",
   "mimetype": "text/x-python",
   "name": "python",
   "nbconvert_exporter": "python",
   "pygments_lexer": "ipython3",
   "version": "3.8.0"
  }
 },
 "nbformat": 4,
 "nbformat_minor": 2
}
