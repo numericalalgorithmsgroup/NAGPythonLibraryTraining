{
 "cells": [
  {
   "cell_type": "markdown",
   "metadata": {},
   "source": [
    "![title](../nag_logo.png)\n",
    "\n",
    "# Exercises - Option Pricing\n",
    "\n",
    "## European Call Options\n",
    "\n",
    "Suppose that I want to write a European call option on 100,000 shares which are currently priced at £4.90. The price of this contract in the Black-Scholes model can be computed using the NAG functions `specfun.opt_bsm_price` and `specfun.opt_bsm_greeks`.  The additional parameters that are required to determine the option price are:\n",
    "- the current risk-free interest rate, r = 5%\n",
    "- the dividend rate, q = 0%\n",
    "- the volatility of the stock price, = 20%\n",
    "- the time to expiry, T = 20 weeks\n",
    "- the strike price, X = £5.00\n",
    "\n",
    "Note that rates in `specfun.opt_bsm_price` and `specfun.opt_bsm_greeks` are continuous annualised rates with 5% being entered as 0.05 and time is in years.\n",
    "\n",
    "Calculate the Delta for this option, i.e. the sensitivity of the option price to small changes in the price of the underlying stock, using `specfun.opt_bsm_greeks`.\n",
    "\n",
    "Suppose that I hedge this option contract by buying 100,000 Delta of the shares in question at the current price of £4.90 by borrowing at the current interest rate of 5%.\n",
    "\n",
    "One week later the share price has risen to £4.95.\n",
    "Calculate my net gain according to the Black-Scholes model as:\n",
    "\n",
    "Net gain = price received for call option – price of call one week later +   \n",
    "&nbsp;&nbsp;&nbsp;&nbsp;&nbsp;&nbsp;&nbsp;&nbsp;&nbsp;&nbsp;&nbsp;&nbsp;&nbsp;&nbsp;&nbsp;&nbsp; price received for underlying stock one week later – repayment of principal used to buy stock with interest   "
   ]
  },
  {
   "cell_type": "markdown",
   "metadata": {},
   "source": [
    "## Heston’s Stochastic Volatility Model\n",
    "\n",
    "Heston’s Stochastic Volatility Model for a European option has a closed form solution in the sense that it can be represented as an integral. However, this must be evaluated numerically in order to give option prices or for the calibration of parameters from market data.\n",
    "\n",
    "The solution given by Heston involves complex-valued functions with branch cuts and is not straightforward to evaluate numerically. In particular, errors occur when calculating the Heston prices for options with long times to maturity. Albrecher *et al.* discuss how to avoid errors when using Heston’s model.\n",
    "\n",
    "A simple check of a function for evaluating the Heston option price can be made by using the parameters specified by Albrecher *et al.* for times to expiry of from 1 to 15 years. When the calculation is handled correctly, plotting the prices will show a\n",
    "smooth monotonically increasing function of time to expiry, T.\n",
    "\n",
    "In the NAG function for Heston’s Model (`specfun.opt_heston_price`) choose a Call option and set:\n",
    "- Strike, X = 100\n",
    "- Spot, S = 100\n",
    "- Time, T = 1, 2, 3, …, 15\n",
    "- Volatility of volatility, sigmav = 0.5751\n",
    "- Mean reversion rate, kappa =1.5768\n",
    "- Correlation, rho = -0.5711\n",
    "- Current variance, var0 = 0.0175\n",
    "- Long run variance, eta = 0.0398\n",
    "- Risk-free interest rate, r = 0.025\n",
    "- Dividend yield, q = 0.0\n",
    "- Risk-aversion parameter, gamma = 1.0\n",
    "\n",
    "Plot the output prices."
   ]
  }
 ],
 "metadata": {
  "kernelspec": {
   "display_name": "Python 3",
   "language": "python",
   "name": "python3"
  },
  "language_info": {
   "codemirror_mode": {
    "name": "ipython",
    "version": 3
   },
   "file_extension": ".py",
   "mimetype": "text/x-python",
   "name": "python",
   "nbconvert_exporter": "python",
   "pygments_lexer": "ipython3",
   "version": "3.8.5"
  }
 },
 "nbformat": 4,
 "nbformat_minor": 2
}
