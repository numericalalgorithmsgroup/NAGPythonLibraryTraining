{
 "cells": [
  {
   "cell_type": "markdown",
   "metadata": {},
   "source": [
    "![title](../nag_logo.png)\n",
    " \n",
    "\n",
    "# Exercises - short questions\n",
    "These questions are not necessarily designed to be answered in order! Choose\n",
    "ones that interest you, or explore the [Package Documentation](https://www.nag.com/numeric/py/nagdoc_latest/index.html) and run some of the examples\n",
    "found there.\n",
    "\n",
    "## Question 1\n",
    "Use [`quad.dim1_fin_well`](https://www.nag.com/numeric/py/nagdoc_latest/naginterfaces.library.quad.html) to find the area under the sine curve between 0 and pi.  Using the documentation look at what other information can be retrieved on output from the\n",
    "routine and print it out. Try integrating other functions.\n",
    "\n",
    "Here are some import statements to help you get started. (We tag them here with a special directive for pylint because they aren't used - yet.)"
   ]
  },
  {
   "cell_type": "code",
   "execution_count": 1,
   "metadata": {},
   "outputs": [],
   "source": [
    "from naginterfaces.library import quad # pylint: disable=unused-import\n",
    "import math # pylint: disable=unused-import"
   ]
  },
  {
   "cell_type": "markdown",
   "metadata": {},
   "source": [
    "## Question 2\n",
    "\n",
    "Simultaneous equations can be solved via a Cholesky factorization when the system of equations is symmetric positive definite.  Using both `lapacklin.dpotrf` and `lapacklin.dpotrs`, solve such a system of equations with multiple right-hand sides.  Use the data below to get started."
   ]
  },
  {
   "cell_type": "code",
   "execution_count": 2,
   "metadata": {},
   "outputs": [],
   "source": [
    "A = [ [4.16,  0,    0,    0],\n",
    "      [-3.12,  5.03, 0,   0],\n",
    "      [0.56, -0.83, 0.76, 0],\n",
    "      [-0.10,  1.18, 0.34, 1.18]]\n",
    "b = [  [8.70, 8.30],\n",
    "       [-13.35, 2.13],\n",
    "       [1.89, 1.61],\n",
    "       [-4.14, 5.00]]"
   ]
  },
  {
   "cell_type": "markdown",
   "metadata": {},
   "source": [
    "# Question 3\n",
    "\n",
    "Using a NAG routine produce two vectors of length _n_ both containing normally distributed numbers with mean 0 and standard deviation 2.  Plot the pairs of vectors against each other using the Python `matplotlib` library.\n",
    "\n",
    "Now generate vectors of uniformly distributed numbers, again using a NAG routine, and plot them on the same axis."
   ]
  }
 ],
 "metadata": {
  "kernelspec": {
   "display_name": "Python 3",
   "language": "python",
   "name": "python3"
  },
  "language_info": {
   "codemirror_mode": {
    "name": "ipython",
    "version": 3
   },
   "file_extension": ".py",
   "mimetype": "text/x-python",
   "name": "python",
   "nbconvert_exporter": "python",
   "pygments_lexer": "ipython3",
   "version": "3.8.5"
  }
 },
 "nbformat": 4,
 "nbformat_minor": 2
}
