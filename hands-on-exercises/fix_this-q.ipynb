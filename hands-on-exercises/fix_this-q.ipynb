{
 "cells": [
  {
   "cell_type": "markdown",
   "metadata": {},
   "source": [
    "![title](../NAG_logo.png)\n",
    "# Principal component analysis\n",
    "\n",
    "The following program uses the routine `mv.prin_comp` to performs principal component analysis on a variance-covariance matrix, which consists of _the first two columns_ of the following matrix `x`. Use `help` and follow the error messages to fix the program.\n",
    "\n",
    "## hints\n",
    "\n",
    " 1. All arrays have to be contiguous (there is a speed advantage if they are also column-major (Fortran-like))\n",
    " 2. Documentation for mv.prin_comp can be requested inside this notebook by using `?mv.prin_comp`\n",
    " 3. Make sure that `s` is of the right length\n",
    " 3. Make sure that the returned object from `prin_comp` as a `stat` member\n",
    " 4. See also the `iris` PCA example notebook"
   ]
  },
  {
   "cell_type": "code",
   "execution_count": null,
   "metadata": {},
   "outputs": [],
   "source": [
    "import numpy as np\n",
    "from naginterfaces.library import mv\n",
    "\n",
    "matrix = 'Var-Covar'\n",
    "std = 'Eigenvalue'\n",
    "x = np.array([\n",
    "    [7.0, 4.0, 3.0],\n",
    "    [4.0, 1.0, 8.0],\n",
    "    [6.0, 3.0, 5.0],\n",
    "    [8.0, 6.0, 1.0],\n",
    "    [8.0, 5.0, 7.0],\n",
    "    [7.0, 2.0, 9.0],\n",
    "    [5.0, 3.0, 3.0],\n",
    "    [9.0, 5.0, 8.0],\n",
    "    [7.0, 4.0, 5.0],\n",
    "    [8.0, 2.0, 2.0],\n",
    "])\n",
    "\n",
    "x_clean = x[:,:2]\n",
    "\n",
    "isx = [1, 1]\n",
    "\n",
    "# Initialize s to 0.0, as matrix /= 'S'\n",
    "s = [0.0, 0.0, 0.0]\n",
    "\n",
    "# Calculate NVAR\n",
    "nvar = isx.count(1)\n",
    "\n",
    "# The statistics of principal component analysis\n",
    "e = mv.prin_comp(matrix, std, x_clean, isx, s, nvar).stat\n",
    "\n",
    "print(' Eigenvalues  Percentage  Cumulative       Chisq          DF'\n",
    "      '         Sig'\n",
    "     )\n",
    "print('               variation   variation')\n",
    "print('[')\n",
    "for i in range(e.shape[0]):\n",
    "    print(\n",
    "        '  ' +\n",
    "        ', '.join(['{:10.4f}']*e.shape[1]).format(*e[i, :])\n",
    "    )\n",
    "print(']')"
   ]
  }
 ],
 "metadata": {
  "kernelspec": {
   "display_name": "Python 3 (ipykernel)",
   "language": "python",
   "name": "python3"
  },
  "language_info": {
   "codemirror_mode": {
    "name": "ipython",
    "version": 3
   },
   "file_extension": ".py",
   "mimetype": "text/x-python",
   "name": "python",
   "nbconvert_exporter": "python",
   "pygments_lexer": "ipython3",
   "version": "3.8.10"
  }
 },
 "nbformat": 4,
 "nbformat_minor": 2
}
