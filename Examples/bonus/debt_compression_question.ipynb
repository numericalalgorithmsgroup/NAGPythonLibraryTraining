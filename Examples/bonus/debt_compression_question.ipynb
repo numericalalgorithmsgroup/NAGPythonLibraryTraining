{
 "cells": [
  {
   "cell_type": "markdown",
   "metadata": {},
   "source": [
    "<img src=\"nag_logo.png\" width=75px/>\n",
    "\n",
    "# Financial debt compression exercise\n",
    "\n",
    "## Prerequisites\n",
    "In order to experiment and use this notebook, you will require to install the following packages: `numpy`, `networkx`, `matplotlib` and `naginterfaces`.\n",
    "\n",
    "\n",
    "## Problem description\n",
    "This notebook illustrates \"dept compression\" through an illustrative example: after a year of weekly meetings at the pub, four friends all owe each other money and each of them would like to pay off its debt towards the others.\n",
    "\n",
    "We'll represent the situation by a directed graph. For example, the statement \"Tom owes £20.00 to Zoe\" can be represented by the following graph:"
   ]
  },
  {
   "cell_type": "code",
   "execution_count": 1,
   "metadata": {
    "scrolled": true
   },
   "outputs": [
    {
     "data": {
      "image/png": "[encoded data removed]",
      "text/plain": [
       "<Figure size 432x288 with 1 Axes>"
      ]
     },
     "metadata": {},
     "output_type": "display_data"
    }
   ],
   "source": [
    "import networkx as nx\n",
    "import matplotlib.pyplot as plt\n",
    "\n",
    "# Simple graph representing: \"Tom owes £20 to Zoe\"\n",
    "G = nx.DiGraph()\n",
    "G.add_nodes_from(['Tom', 'Zoe'])\n",
    "G.add_edge('Tom', 'Zoe', weight=20.0)\n",
    "pos = nx.bipartite_layout(G, 'Zoe')\n",
    "nx.draw_networkx_nodes(G, pos, cmap=plt.get_cmap('jet'), node_size=1000)\n",
    "nx.draw_networkx_labels(G, pos)\n",
    "nx.draw_networkx_edges(G, pos, arrows=True, width=2.0, arrowsize=30)\n",
    "labels = nx.get_edge_attributes(G,'weight')\n",
    "nx.draw_networkx_edge_labels(G, pos, edge_labels=labels, label_pos=0.5, font_size=13)\n",
    "plt.show()"
   ]
  },
  {
   "cell_type": "markdown",
   "metadata": {},
   "source": [
    "At the end of the year and after some discussion, the group managed to summarize what the dept situation is for each:\n",
    "\n",
    "* Tom owes Zoe £30,\n",
    "* Zoe owes David £55 and John £15,\n",
    "* David owes Tom £45 and John £45,\n",
    "* John owes Tom £35.\n",
    "\n",
    "That is to say:\n",
    "\n",
    "\\begin{array}{rrrr}\n",
    "~ & \\text{Tom}  & \\text{Zoe}  & \\text{John}  & \\text{David} \\\\\n",
    "\\text{Tom}  &  0 & -30 &  35 &  45 \\\\\n",
    "\\text{Zoe}  & 30 &   0 & -15 & -55 \\\\\n",
    "\\text{John} &-35 &  15 &   0 &  45 \\\\\n",
    "\\text{David}&-45 &  55 & -45 &   0 \n",
    "\\end{array}\n",
    "\n",
    "We can store this information in the antisymmetric matrix $M$ where each row represents the amount of money owed by one member of the group to the others:\n",
    "\\begin{equation*}\n",
    "M = \n",
    "\\begin{pmatrix}\n",
    "  0 & -30 & 35 & 45 \\\\\n",
    " 30 & 0 & -15 & -55 \\\\\n",
    "-35 & 15  & 0 & 45  \\\\\n",
    "-45 & 55 & -45 & 0 \n",
    "\\end{pmatrix}\n",
    "\\end{equation*}\n",
    "This can also be represented by the following graph:"
   ]
  },
  {
   "cell_type": "code",
   "execution_count": 2,
   "metadata": {},
   "outputs": [
    {
     "data": {
      "image/png": "[encoded data removed]",
      "text/plain": [
       "<Figure size 432x288 with 1 Axes>"
      ]
     },
     "metadata": {},
     "output_type": "display_data"
    }
   ],
   "source": [
    "import numpy as np\n",
    "\n",
    "def graph_from_matrix(mat, tol=1.0e-06):\n",
    "    \"\"\"\n",
    "    Draw the debt graph from the upper triangular part of the debt matrix \n",
    "    \"\"\"\n",
    "    n = 4\n",
    "    G = nx.DiGraph()\n",
    "    names = ['Tom', 'Zoe', 'John', 'David']\n",
    "    G.add_nodes_from(names)\n",
    "    idx = 0\n",
    "    for i in range(n-1):\n",
    "        for j in range(i+1, n):\n",
    "            if abs(mat[idx]) > tol:\n",
    "                if mat[idx] < 0:\n",
    "                    G.add_edge(names[i],names[j], weight=-round(mat[idx],3))\n",
    "                else:\n",
    "                    G.add_edge(names[j],names[i], weight=round(mat[idx],3))\n",
    "            idx += 1\n",
    "    pos = nx.circular_layout(G)\n",
    "    nx.draw_networkx_nodes(G, pos, cmap=plt.get_cmap('jet'), node_size=1000)\n",
    "    nx.draw_networkx_labels(G, pos)\n",
    "    nx.draw_networkx_edges(G, pos, arrows=True, width=2.0, arrowsize=30)\n",
    "    labels = nx.get_edge_attributes(G,'weight')\n",
    "    nx.draw_networkx_edge_labels(G, pos, edge_labels=labels, label_pos=0.7, font_size=13)\n",
    "    plt.show()\n",
    "    \n",
    "# Full debt matrix and its upper triangular part\n",
    "debts = np.array([[  0.0, -30.0,  35.0,  45.0],\n",
    "                  [ 30.0,   0.0, -15.0, -55.0],\n",
    "                  [-35.0,  15.0,   0.0,  45.0],\n",
    "                  [-45.0,  55.0, -45.0,   0.0]])\n",
    "upper_debts = np.array([-30., 35., 45., 15., -55., 45.])\n",
    "graph_from_matrix(upper_debts)"
   ]
  },
  {
   "cell_type": "markdown",
   "metadata": {},
   "source": [
    "The previous graph indicates that in order for each member to clear its debt:\n",
    " * John has to pay to Zoe £15, and to Tom £35,\n",
    " * David has to pay John £45,\n",
    " * and so forth.\n",
    " \n",
    "It is quite clear that all these payment transactions can be simplified or _compressed_. Take for example David, he needs to pay John £45 but also receives £45 from Tom, clearly it would be simpler if Tom pays directly John thus avoiding transacting twice.\n",
    "\n",
    "The main question of this exercise is, can you find a debt payment strategy that has the least number of transactions and satisfies all the debts? Take for example this optimal solution:\n",
    "<img src='optcompress.png'/>\n",
    "it only requires 3 payments and all debts are payed back! Note that missing arrows (edges) denote that no transaction (payment) is necessary. So a payment strategy with the least edges and that clears all the debts is a winner.\n",
    "\n",
    "Try using NAG's optimization solvers to find this optimal solution!\n",
    "\n",
    "The following questions will help you advance towards this goals."
   ]
  },
  {
   "cell_type": "markdown",
   "metadata": {},
   "source": [
    "## Questions\n",
    "\n",
    "Without adding more money into the system, we want to simplify the payment strategy as much as possible. We consider two criteria:\n",
    "1. The sum of squares of all the individual debts should be as small as possible (2-norm):"
   ]
  },
  {
   "cell_type": "code",
   "execution_count": 3,
   "metadata": {},
   "outputs": [
    {
     "name": "stdout",
     "output_type": "stream",
     "text": [
      "Current sum of squares of the debts: 9425.00\n"
     ]
    }
   ],
   "source": [
    "print(\"Current sum of squares of the debts: {:.2f}\".format(sum(np.square(upper_debts))))"
   ]
  },
  {
   "cell_type": "markdown",
   "metadata": {},
   "source": [
    "2. The total amounts of debts is as small as possible (1-norm):"
   ]
  },
  {
   "cell_type": "code",
   "execution_count": 4,
   "metadata": {
    "scrolled": true
   },
   "outputs": [
    {
     "name": "stdout",
     "output_type": "stream",
     "text": [
      "Current total amount of debts: 225.00\n"
     ]
    }
   ],
   "source": [
    "print(\"Current total amount of debts: {:.2f}\".format(sum(abs(upper_debts))))"
   ]
  },
  {
   "cell_type": "markdown",
   "metadata": {},
   "source": [
    "<div class=\"alert alert-block alert-success\">\n",
    "    <b>Tip</b> 2-Norm solutions find payment strategies where each transaction amount is as <b>small</b> as possible, \n",
    "    while 1-norm solutions find payment strategies where the number of transaction is the <b>fewest</b> possible.\n",
    "</div>"
   ]
  },
  {
   "cell_type": "markdown",
   "metadata": {},
   "source": [
    "For both questions, you should present your solution in the form of an update of the array `upper_debt` which is the upper triangular part of the debt matrix $M$ shown above. The utility functions `check_solution()` and `graph_from_matrix()` are provided to visualize your solution and check its validity."
   ]
  },
  {
   "cell_type": "code",
   "execution_count": 5,
   "metadata": {},
   "outputs": [],
   "source": [
    "def check_solution(sol, tol=1.0e-06):\n",
    "    nvar = 6\n",
    "    n = 4\n",
    "    if len(sol) > 6:\n",
    "        return False\n",
    "    expo = n*[0.0]\n",
    "    idx = 0\n",
    "    for i in range(n-1):\n",
    "        for j in range(i+1, n):\n",
    "            expo[i] += sol[idx]\n",
    "            expo[j] -= sol[idx]\n",
    "            idx += 1\n",
    "    comp = [50., -10., -5., -35.]\n",
    "    if any([abs(comp[i]-expo[i]) > tol for i in range(n)]):\n",
    "        return False\n",
    "    return True"
   ]
  },
  {
   "cell_type": "code",
   "execution_count": 6,
   "metadata": {},
   "outputs": [
    {
     "name": "stdout",
     "output_type": "stream",
     "text": [
      "The vector provided is a solution: True\n"
     ]
    },
    {
     "data": {
      "image/png": "[encoded data removed]",
      "text/plain": [
       "<Figure size 432x288 with 1 Axes>"
      ]
     },
     "metadata": {},
     "output_type": "display_data"
    }
   ],
   "source": [
    "from naginterfaces.library import opt\n",
    "from naginterfaces.base import utils \n",
    "\n",
    "# Write your solution here, upper_debts is the initial debt for all the friends\n",
    "solution = upper_debts\n",
    "\n",
    "# TO DO: Code you solution here!\n",
    "# once you have found a solution save it in \"solution\"\n",
    "# solution = ...\n",
    "\n",
    "print(\"The vector provided is a solution: {sol}\".format(sol = check_solution(solution)))\n",
    "graph_from_matrix(solution)"
   ]
  },
  {
   "cell_type": "markdown",
   "metadata": {},
   "source": [
    "## References\n",
    "\n",
    "This exercise is actually a simple instance of the very common portfolio compression problem encountered by banks and insurers at a much larger scale. A nice introduction to this problem can be found in [1]. Try to solve the exercise before reading.\n",
    "\n",
    "[<a id=\"cit\">1</a>] O'Kane D., *Optimising the multilateral netting of fungible OTC derivatives*, Quantitative Finance, vol. 17, 2017."
   ]
  },
  {
   "cell_type": "markdown",
   "metadata": {},
   "source": [
    "## Tips\n",
    "\n",
    "<div class=\"alert alert-block alert-success\">\n",
    "    <b>Tip</b> 2-Norm solutions can be found using solvers such as QP or SOCP, look into the documentation for <code>handle_solve_socp_ipm</code>. Also look for a equivalent reformulation of the squared 2-norm, $\\|x\\|^2_2$...\n",
    "</div>\n",
    "\n",
    "<div class=\"alert alert-block alert-success\">\n",
    "    <b>Tip</b> 1-Norm solution, \n",
    "    $\\min\\, |x|$, can be thought has a group of linear constraints along with the debt constraints, this forms a Linear Program (LP), look into the documentation Introduction for Chapter E04 for more information related to LP.\n",
    "</div>"
   ]
  }
 ],
 "metadata": {
  "kernelspec": {
   "display_name": "Python 3 (ipykernel)",
   "language": "python",
   "name": "python3"
  },
  "language_info": {
   "codemirror_mode": {
    "name": "ipython",
    "version": 3
   },
   "file_extension": ".py",
   "mimetype": "text/x-python",
   "name": "python",
   "nbconvert_exporter": "python",
   "pygments_lexer": "ipython3",
   "version": "3.8.10"
  },
  "latex_envs": {
   "LaTeX_envs_menu_present": true,
   "autoclose": false,
   "autocomplete": true,
   "bibliofile": "biblio.bib",
   "cite_by": "apalike",
   "current_citInitial": 1,
   "eqLabelWithNumbers": true,
   "eqNumInitial": 1,
   "hotkeys": {
    "equation": "Ctrl-E",
    "itemize": "Ctrl-I"
   },
   "labels_anchors": false,
   "latex_user_defs": false,
   "report_style_numbering": false,
   "user_envs_cfg": false
  }
 },
 "nbformat": 4,
 "nbformat_minor": 4
}
