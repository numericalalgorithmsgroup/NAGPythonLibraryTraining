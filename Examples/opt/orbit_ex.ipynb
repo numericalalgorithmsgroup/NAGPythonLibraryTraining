{
 "cells": [
  {
   "cell_type": "markdown",
   "metadata": {},
   "source": [
    "# Installing the NAG library and running this notebook\n",
    "\n",
    "This notebook depends on the NAG library for Python to run. Please read the instructions in the [Readme.md](https://github.com/numericalalgorithmsgroup/NAGPythonExamples/blob/master/local_optimization/Readme.md#install) file to download, install and obtain a licence for the library.\n",
    "\n",
    "Instruction on how to run the notebook can be found [here](https://github.com/numericalalgorithmsgroup/NAGPythonExamples/blob/master/local_optimization/Readme.md#jupyter)."
   ]
  },
  {
   "cell_type": "markdown",
   "metadata": {},
   "source": [
    "# Orbital Data Fitting\n",
    "\n",
    "Example of a nonlinear least-square orbital data fitting. Given a set of orbital data points the task is to estimate an optimal orbit path that minimizes the error between the path and the fixed data points."
   ]
  },
  {
   "cell_type": "code",
   "execution_count": 1,
   "metadata": {
    "scrolled": false
   },
   "outputs": [],
   "source": [
    "import numpy as np\n",
    "import math\n",
    "import matplotlib.pyplot as plt\n",
    "import matplotlib.patches as pch\n",
    "from naginterfaces.base import utils\n",
    "from naginterfaces.library import opt"
   ]
  },
  {
   "cell_type": "code",
   "execution_count": 2,
   "metadata": {},
   "outputs": [
    {
     "data": {
      "image/png": "[encoded data removed]",
      "text/plain": [
       "<Figure size 432x288 with 1 Axes>"
      ]
     },
     "metadata": {
      "needs_background": "light"
     },
     "output_type": "display_data"
    }
   ],
   "source": [
    "im = plt.imread(\"earth.png\")\n",
    "implot = plt.imshow(im)\n",
    "tx = np.array([441.23, 484.31, 265.15, 98.25, 180.66, 439.13, 596.54])\n",
    "ty = np.array([333.92, 563.46, 577.40, 379.23,  148.62, 100.28, 285.99])\n",
    "cc = np.array([355.00, 347.00])\n",
    "tr = (tx-cc[0])**2 + (ty-cc[1])**2\n",
    "plt.plot(tx,ty,'y+')\n",
    "plt.axis('off')\n",
    "plt.savefig('dat_orbit.png', bbox_inches='tight', dpi=150)\n",
    "plt.show()"
   ]
  },
  {
   "cell_type": "markdown",
   "metadata": {},
   "source": [
    "Image credit: [Image of Earth](http://pics.eumetsat.int/viewer/index.html) was taken from [EUMETSAT, Copyright 2020](http://pics.eumetsat.int/viewer/index.html#help).\n",
    "\n",
    "\n",
    "The previous image shows the orbit measurements to which an optimal orbit, `r`, must be estimated. \n",
    "The simple univariate problem to solve is:\n",
    "\n",
    "![LaTeX equation: min f(x) = sum i=1 to nres of (tr[i]^2 - r^2)^2](ltx_optprb.png)\n",
    "\n",
    "Here `tr[i]` contains the squared norm for the measurement point `i`, given by the coordinate pair `(tx[i], ty[i])`. Note that the coordinates for the center of the planet are provided by the vector `cc`."
   ]
  },
  {
   "cell_type": "code",
   "execution_count": 3,
   "metadata": {},
   "outputs": [],
   "source": [
    "# problem data\n",
    "# number of observations\n",
    "nres = len(tx)\n",
    "# observations\n",
    "# Define the data structure to be passed to the callback functions\n",
    "data = {'tr': tr}\n",
    "# number of parameter to fit\n",
    "nvar = 1"
   ]
  },
  {
   "cell_type": "code",
   "execution_count": 4,
   "metadata": {},
   "outputs": [],
   "source": [
    "# Define the least-square function and add first derivatives.\n",
    "def lsqfun(x, nres, inform, data):\n",
    "    \"\"\"\n",
    "    Objective function call back passed to the least squares solver.\n",
    "    Return the difference between the current estimated radius squared, r^2=x^2 and \n",
    "    the squared norm of the data point stored in tr[i] for i = 1 to nres:\n",
    "    rx[i] = r^2 - tr[i], i = 1, ..., nres.\n",
    "    \"\"\"\n",
    "    rx = x**2 - data['tr']\n",
    "    return rx, inform\n",
    "\n",
    "def lsqgrd(x, nres, rdx, inform, data):\n",
    "    \"\"\"\n",
    "    Computes the Jacobian of the least square residuals.\n",
    "    Simply return rdx[i] = 2r, i = 1, ..., nres.\n",
    "    \"\"\"\n",
    "    rdx[:] = 2.0*np.ones(nres)*x[:]\n",
    "    return inform"
   ]
  },
  {
   "cell_type": "code",
   "execution_count": 5,
   "metadata": {},
   "outputs": [],
   "source": [
    "# Initialize the model handle\n",
    "handle = opt.handle_init(nvar)\n",
    "\n",
    "# Define a dense nonlinear least-squares objective function\n",
    "opt.handle_set_nlnls(handle, nres)"
   ]
  },
  {
   "cell_type": "code",
   "execution_count": 6,
   "metadata": {},
   "outputs": [],
   "source": [
    "# Restrict parameter space (0 <= x)\n",
    "opt.handle_set_simplebounds(handle, np.zeros(nvar), 1000.0*np.ones(nvar))"
   ]
  },
  {
   "cell_type": "code",
   "execution_count": 7,
   "metadata": {},
   "outputs": [],
   "source": [
    "# Set some optional parameters to control the output of the solver\n",
    "for option in [\n",
    "        'Print Options = NO',\n",
    "        'Print Level = 1',\n",
    "        'Print Solution = X',\n",
    "        'Bxnl Iteration Limit = 100'\n",
    "]:\n",
    "    opt.handle_opt_set(handle, option)\n",
    "\n",
    "# Use an explicit I/O manager for abbreviated iteration output:\n",
    "iom = utils.FileObjManager(locus_in_output=False)"
   ]
  },
  {
   "cell_type": "code",
   "execution_count": 8,
   "metadata": {},
   "outputs": [],
   "source": [
    "# Define initial guess (starting point) Away from zero which is problematic.\n",
    "x = np.ones(nvar)"
   ]
  },
  {
   "cell_type": "markdown",
   "metadata": {},
   "source": [
    "Call the solver"
   ]
  },
  {
   "cell_type": "code",
   "execution_count": 9,
   "metadata": {},
   "outputs": [
    {
     "name": "stdout",
     "output_type": "stream",
     "text": [
      " E04GG, Nonlinear least squares method for bound-constrained problems\n",
      " Status: converged, an optimal solution was found\n",
      " Value of the objective             1.45373E+09\n",
      " Norm of projected gradient         2.23690E-01\n",
      " Norm of scaled projected gradient  4.14848E-06\n",
      " Norm of step                       3.75533E-06\n",
      "\n",
      " Primal variables:\n",
      "   idx   Lower bound       Value       Upper bound\n",
      "     1   0.00000E+00    2.38765E+02    1.00000E+03\n"
     ]
    }
   ],
   "source": [
    "# Call the solver\n",
    "slv = opt.handle_solve_bxnl(handle, lsqfun, lsqgrd, x, nres, data=data, io_manager=iom)"
   ]
  },
  {
   "cell_type": "code",
   "execution_count": 10,
   "metadata": {},
   "outputs": [
    {
     "name": "stdout",
     "output_type": "stream",
     "text": [
      "Optimal Orbit Height: 238.76\n"
     ]
    }
   ],
   "source": [
    "# Optimal parameter values\n",
    "rstar = slv.x\n",
    "print('Optimal Orbit Height: %3.2f' % rstar)"
   ]
  },
  {
   "cell_type": "code",
   "execution_count": 11,
   "metadata": {
    "scrolled": true
   },
   "outputs": [
    {
     "data": {
      "image/png": "[encoded data removed]",
      "text/plain": [
       "<Figure size 432x288 with 1 Axes>"
      ]
     },
     "metadata": {
      "needs_background": "light"
     },
     "output_type": "display_data"
    }
   ],
   "source": [
    "figure, axes = plt.figure(), plt.gca()\n",
    "implot = plt.imshow(im)\n",
    "orbit = plt.Circle(cc, radius=rstar, color='w', fill=False)\n",
    "axes.add_patch(orbit)\n",
    "plt.plot(tx, ty, 'y+')\n",
    "plt.axis('off')\n",
    "plt.savefig('est_orbit.png', bbox_inches='tight', dpi=150)\n",
    "plt.show()"
   ]
  },
  {
   "cell_type": "markdown",
   "metadata": {},
   "source": [
    "Suppose expert knowledge provides insight on the reliability of each measurement and that for this satellite configuration, operational orbit height should be around 250 +/-6 units. The previous image shows a fit where each measurement (data point) contributes the same amount and provides an optimal orbit height of 238.76 units. The fit is quite poor in the sense that it does not satisfy expert advice. Evidently data point 0 (yellow cross closest to Earth surface) is unreliable. Unreliability should be taken into account while doing the fitting. For this end, weights for each residuals are introduced (weights should be set to be proportional to the inverse of their variability). For this example, suppose we are provided with the accuracy for each of the data measurements. \n",
    "\n",
    "With this new information, the problem is solved again using weighted nonlinear least-squares. "
   ]
  },
  {
   "cell_type": "code",
   "execution_count": 12,
   "metadata": {},
   "outputs": [
    {
     "name": "stdout",
     "output_type": "stream",
     "text": [
      " E04GG, Nonlinear least squares method for bound-constrained problems\n",
      " Status: converged, an optimal solution was found\n",
      " Value of the objective             1.25035E+06\n",
      " Norm of projected gradient         6.26959E-03\n",
      " Norm of scaled projected gradient  3.96468E-06\n",
      " Norm of step                       8.72328E-03\n",
      "\n",
      " Primal variables:\n",
      "   idx   Lower bound       Value       Upper bound\n",
      "     1   0.00000E+00    2.54896E+02    1.00000E+03\n",
      "Optimal Orbit Height: 254.90\n"
     ]
    }
   ],
   "source": [
    "# Add weights for each residual\n",
    "weights = np.array([0.10, 0.98, 1.01, 1.00, 0.92, 0.97, 1.02])\n",
    "weights /= weights.sum()\n",
    "\n",
    "# Define the reliability of the measurements (weights)\n",
    "opt.handle_set_get_real(handle, 'rw', rarr=weights)\n",
    "\n",
    "# Indicate to the solver that weights are to be used\n",
    "for option in [\n",
    "        'Bxnl Use weights = Yes',\n",
    "]:\n",
    "    opt.handle_opt_set(handle, option)\n",
    "\n",
    "# Solve again\n",
    "slv = opt.handle_solve_bxnl(handle, lsqfun, lsqgrd, x, nres, data=data, io_manager=iom) # monit=monit,\n",
    "\n",
    "# Objective and solution\n",
    "rstar = slv.x\n",
    "print('Optimal Orbit Height: %3.2f' % rstar)"
   ]
  },
  {
   "cell_type": "code",
   "execution_count": 13,
   "metadata": {},
   "outputs": [
    {
     "data": {
      "image/png": "[encoded data removed]",
      "text/plain": [
       "<Figure size 432x288 with 1 Axes>"
      ]
     },
     "metadata": {
      "needs_background": "light"
     },
     "output_type": "display_data"
    },
    {
     "name": "stdout",
     "output_type": "stream",
     "text": [
      "Optimal Orbit Height: 254.90 (should be between 244 and 256)\n"
     ]
    }
   ],
   "source": [
    "figure, axes = plt.figure(), plt.gca()\n",
    "implot = plt.imshow(im)\n",
    "orbit = plt.Circle(cc, radius=rstar, color='w', fill=False)\n",
    "axes.add_patch(orbit)\n",
    "plt.plot(tx, ty,'y+')\n",
    "plt.axis('off')\n",
    "plt.savefig('estw_orbit.png', bbox_inches='tight', dpi=150)\n",
    "plt.show()\n",
    "print('Optimal Orbit Height: %3.2f (should be between 244 and 256)' % rstar)"
   ]
  },
  {
   "cell_type": "markdown",
   "metadata": {},
   "source": [
    "For this weighted model the orbital solution provided concurs with expert advice."
   ]
  }
 ],
 "metadata": {
  "kernelspec": {
   "display_name": "Python 3 (ipykernel)",
   "language": "python",
   "name": "python3"
  },
  "language_info": {
   "codemirror_mode": {
    "name": "ipython",
    "version": 3
   },
   "file_extension": ".py",
   "mimetype": "text/x-python",
   "name": "python",
   "nbconvert_exporter": "python",
   "pygments_lexer": "ipython3",
   "version": "3.8.10"
  },
  "latex_envs": {
   "LaTeX_envs_menu_present": true,
   "autoclose": false,
   "autocomplete": true,
   "bibliofile": "biblio.bib",
   "cite_by": "apalike",
   "current_citInitial": 1,
   "eqLabelWithNumbers": true,
   "eqNumInitial": 1,
   "hotkeys": {
    "equation": "Ctrl-E",
    "itemize": "Ctrl-I"
   },
   "labels_anchors": false,
   "latex_user_defs": false,
   "report_style_numbering": false,
   "user_envs_cfg": false
  }
 },
 "nbformat": 4,
 "nbformat_minor": 2
}
