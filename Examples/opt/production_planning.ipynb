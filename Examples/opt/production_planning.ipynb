{
 "cells": [
  {
   "cell_type": "markdown",
   "metadata": {},
   "source": [
    "# Installing the NAG library and running this notebook\n",
    "\n",
    "This notebook depends on the NAG library for Python to run. Please read the instructions in the [Readme.md](https://github.com/numericalalgorithmsgroup/NAGPythonExamples/blob/master/local_optimization/Readme.md#install) file to download, install and obtain a licence for the library.\n",
    "\n",
    "Instruction on how to run the notebook can be found [here](https://github.com/numericalalgorithmsgroup/NAGPythonExamples/blob/master/local_optimization/Readme.md#jupyter)."
   ]
  },
  {
   "cell_type": "markdown",
   "metadata": {},
   "source": [
    "# Edit and solve different variants of a production-planning problem\n",
    "\n",
    "## Correct Rendering of this notebook\n",
    "\n",
    "This notebook makes use of the `latex_envs` Jupyter extension for equations and references.  If the LaTeX is not rendering properly in your local installation of Jupyter , it may be because you have not installed this extension.  Details at https://jupyter-contrib-nbextensions.readthedocs.io/en/latest/nbextensions/latex_envs/README.html\n",
    "\n",
    "The notebook is also not rendered well by GitHub so if you are reading it from there, you may prefer the [pdf version instead](./static/portfolio_optimization_qcqp.pdf).\n",
    "\n",
    "## Problem description\n",
    "We consider a situation where a factory can manufacture two different chemicals $A_1$ and $A_2$. The goal for the factory is to determine the quantities $x_1$ and $x_2$ of each chemical to maximize profit under the following circumstances:\n",
    "- a unit of $A_1$ weighs 40kg and a unit of $A_2$ weighs 80kg;\n",
    "- the total daily production cannot exceed 16000kg to match the transport capabilities;\n",
    "- the factory generates \\\\$2 profit for each unit of $A_1$ and \\\\$4.5 profit for each unit of $A_2$;\n",
    "- both products need to use the same machine as part of their respective processes; a unit of A1 requires 1.2 minutes of machine time while a unit of $A_2$ requires 3 minutes; the machine can only function for 1500 minutes daily;\n",
    "- a unit of $A_1$ uses 6 square metres of packing material while a unit of $A_2$ uses 10 square metres; 6000 square metres of packing materials are available each day;\n",
    "- production of $A_2$ is limited to 100 units per day.\n",
    "\n",
    "Note that since the chemicals are considered fluid, the quantities $x_1$ and $x_2$ are not limited to integer values.\n",
    "\n",
    "The problem can be formulated as a linear program:\n",
    "\n",
    "\\begin{equation*}\n",
    "\\begin{array}{lll}\n",
    "\\underset{x\\in\\Re^n}{\\mbox{maximize}} & 2x_1+4.5x_2&\\\\[0.6ex]\n",
    "\\mbox{subject to} & 1.2x_1 + 3x_2 \\leq 1500, &\\text{ (machine time constraint)} \\\\[0.6ex]\n",
    "     & 6x_1+10x_2 \\leq 6000, & \\text{ (packaging material constraint)} \\\\[0.6ex]\n",
    "     & 40x_1+80x_2 \\leq 16000, & \\text{ (transport constraint)} \\\\[0.6ex]\n",
    "     & 0 \\leq x_1, & \\text{ (capacity constraint)} \\\\[0.6ex]\n",
    "     & 0 \\leq x_2 \\leq 100 & \\text{ (capacity constraint)} \\\\[0.6ex]\n",
    "\\end{array}\n",
    "\\end{equation*}"
   ]
  },
  {
   "cell_type": "code",
   "execution_count": 1,
   "metadata": {},
   "outputs": [
    {
     "name": "stdout",
     "output_type": "stream",
     "text": [
      " E04MT, Interior point method for LP problems\n",
      " Status: converged, an optimal solution found\n",
      " Final primal objective value  8.500000E+02\n",
      " Final dual objective value    8.500000E+02\n",
      "\n",
      " Primal variables:\n",
      "   idx   Lower bound       Value       Upper bound\n",
      "     1   0.00000E+00    2.00000E+02         inf\n",
      "     2   0.00000E+00    1.00000E+02    1.00000E+02\n"
     ]
    }
   ],
   "source": [
    "# Define and solve the linear program with the NAG optimization modelling suite\n",
    "\n",
    "from naginterfaces.library import opt\n",
    "from naginterfaces.base import utils\n",
    "\n",
    "infbnd = 1.0e20\n",
    "    \n",
    "# Initialize the Optimization model handle with the number of variables\n",
    "handle = opt.handle_init(2)\n",
    "\n",
    "# Define a linear objective function\n",
    "opt.handle_set_linobj(handle, cvec=[2.0, 4.5])\n",
    "\n",
    "# Box constraints\n",
    "opt.handle_set_simplebounds(\n",
    "    handle,\n",
    "    bl=[0.0, 0.0],\n",
    "    bu=[infbnd, 100])\n",
    "\n",
    "# Set the linear constraints\n",
    "opt.handle_set_linconstr(\n",
    "    handle,\n",
    "    bl=[-infbnd, -infbnd, -infbnd],\n",
    "    bu=[1500.0, 6000.0, 16000.0],\n",
    "    irowb=[1, 1, 2, 2, 3, 3],\n",
    "    icolb=[1, 2, 1, 2, 1, 2],\n",
    "    b=[1.2, 3.0, 6.0, 10.0, 40.0, 80.0]\n",
    ")\n",
    "\n",
    "# Set some alogorithmic options\n",
    "for option in [\n",
    "        'Print Options = NO',\n",
    "        'Print Level = 1',\n",
    "        'Task = Max',\n",
    "        'Print Solution = X',\n",
    "]:\n",
    "    opt.handle_opt_set(handle, option)\n",
    "\n",
    "# Use an explicit I/O manager for abbreviated iteration output:\n",
    "iom = utils.FileObjManager(locus_in_output=False)\n",
    "\n",
    "# Solve the problem\n",
    "res = opt.handle_solve_lp_ipm(handle, io_manager=iom)"
   ]
  },
  {
   "cell_type": "markdown",
   "metadata": {},
   "source": [
    "The optimal repartition is to produce 200 units of $A_1$ and 100 units of $A_2$ for a total profit of 850\\\\$.\n",
    "\n",
    "### Plant expansion: a new chemical $A_3$ can be produced \n",
    "\n",
    "The following data is available for $A_3$:\n",
    "- a unit of $A_3$ takes 5 minutes on the common machine;\n",
    "- a unit of $A_3$ takes 12 square metres of packaging material;\n",
    "- a unit of $A_3$ weighs 120kg;\n",
    "- a unit of $A_3$ generates \\\\$7 profit;\n",
    "- production of $A_3$ is limited to 50 units per day.\n",
    "\n",
    "The problem becomes:\n",
    "\n",
    "\\begin{equation*}\n",
    "\\begin{array}{lll}\n",
    "\\underset{x\\in\\Re^n}{\\mbox{maximize}} & 2x_1+4.5x_2+7x_3&\\\\[0.6ex]\n",
    "\\mbox{subject to} & 1.2x_1 + 3x_2 + 5x_3 \\leq 1500, &\\text{ (machine time constraint)} \\\\[0.6ex]\n",
    "     & 6x_1+10x_2+12x_3 \\leq 6000, & \\text{ (packaging material constraint)} \\\\[0.6ex]\n",
    "     & 40x_1+80x_2+120x_3 \\leq 16000, & \\text{ (transport constraint)} \\\\[0.6ex]\n",
    "     & 0 \\leq x_1, & \\text{ (capacity constraint)} \\\\[0.6ex]\n",
    "     & 0 \\leq x_1 \\leq 100 & \\text{ (capacity constraint)} \\\\[0.6ex]\n",
    "     & 0 \\leq x_3 \\leq 50 & \\text{ (capacity constraint)} \\\\[0.6ex]\n",
    "\\end{array}\n",
    "\\end{equation*}"
   ]
  },
  {
   "cell_type": "code",
   "execution_count": 2,
   "metadata": {},
   "outputs": [
    {
     "name": "stdout",
     "output_type": "stream",
     "text": [
      " E04MT, Interior point method for LP problems\n",
      " Status: converged, an optimal solution found\n",
      " Final primal objective value  9.000000E+02\n",
      " Final dual objective value    9.000000E+02\n",
      "\n",
      " Primal variables:\n",
      "   idx   Lower bound       Value       Upper bound\n",
      "     1   0.00000E+00    5.00000E+01         inf\n",
      "     2   0.00000E+00    1.00000E+02    1.00000E+02\n",
      "     3   0.00000E+00    5.00000E+01    5.00000E+01\n"
     ]
    }
   ],
   "source": [
    "# Edit the problem to account for the new plant capacity\n",
    "# add a variable\n",
    "opt.handle_add_vars(handle, nadd=1)\n",
    "\n",
    "# Box Constraint on the new variable\n",
    "opt.handle_set_bound(handle, comp='X', idx=3, bli=0.0, bui=50.0)\n",
    "\n",
    "# Add the linear objective component\n",
    "opt.handle_set_linobj_coeff(handle, idxci=3, ci=7.0)\n",
    "\n",
    "# Add linear constraints coefficients\n",
    "opt.handle_set_linconstr_coeff(handle, idlc=1, icolbj=3, bij=5.0)\n",
    "opt.handle_set_linconstr_coeff(handle, idlc=2, icolbj=3, bij=12.0)\n",
    "opt.handle_set_linconstr_coeff(handle, idlc=3, icolbj=3, bij=120.0)\n",
    "\n",
    "# Solve the problem again\n",
    "res = opt.handle_solve_lp_ipm(handle, io_manager=iom)"
   ]
  },
  {
   "cell_type": "markdown",
   "metadata": {},
   "source": [
    "The new optimum is to produce 50 units of $A_1$, 100 units of $A_2$ and 50 units of $A_3$ for a total profit of 900\\\\$.\n",
    "\n",
    "### New regulation: additional constraint\n",
    "\n",
    "At a later date, regulation changes require that products $A_2$ and $A_3$ follow a rigorous quality assurance test before being sent to market. Now the factory is only able to process a total of 100 units per day which amounts to adding the following constraint to our linear program:\n",
    "\\begin{equation*}\n",
    "\\begin{array}{ll}\n",
    "     x_2+x_3 \\leq 100 & \\text{ (regulation constraint)} \\\\[0.6ex]\n",
    "\\end{array}\n",
    "\\end{equation*}"
   ]
  },
  {
   "cell_type": "code",
   "execution_count": 3,
   "metadata": {},
   "outputs": [
    {
     "name": "stdout",
     "output_type": "stream",
     "text": [
      " E04MT, Interior point method for LP problems\n",
      " Status: converged, an optimal solution found\n",
      " Final primal objective value  8.750000E+02\n",
      " Final dual objective value    8.750000E+02\n",
      "\n",
      " Primal variables:\n",
      "   idx   Lower bound       Value       Upper bound\n",
      "     1   0.00000E+00    1.50000E+02         inf\n",
      "     2   0.00000E+00    5.00000E+01    1.00000E+02\n",
      "     3   0.00000E+00    5.00000E+01    5.00000E+01\n"
     ]
    }
   ],
   "source": [
    "# Add a linear constraint\n",
    "opt.handle_set_linconstr(\n",
    "    handle,\n",
    "    bl=[-infbnd],\n",
    "    bu=[100.0],\n",
    "    irowb=[1, 1],\n",
    "    icolb=[2, 3],\n",
    "    b=[1.0, 1.0]\n",
    ")\n",
    "\n",
    "# Solve the problem again\n",
    "res = opt.handle_solve_lp_ipm(handle, io_manager=iom)"
   ]
  },
  {
   "cell_type": "markdown",
   "metadata": {},
   "source": [
    "With the new regulation, maximum profit of 875\\\\$ can be achived by producing 150 units of $A_1$, 50 units of $A_2$ and 50 units of $A_3$."
   ]
  },
  {
   "cell_type": "code",
   "execution_count": 4,
   "metadata": {},
   "outputs": [],
   "source": [
    "opt.handle_free(handle)"
   ]
  }
 ],
 "metadata": {
  "kernelspec": {
   "display_name": "Python 3 (ipykernel)",
   "language": "python",
   "name": "python3"
  },
  "language_info": {
   "codemirror_mode": {
    "name": "ipython",
    "version": 3
   },
   "file_extension": ".py",
   "mimetype": "text/x-python",
   "name": "python",
   "nbconvert_exporter": "python",
   "pygments_lexer": "ipython3",
   "version": "3.8.10"
  },
  "latex_envs": {
   "LaTeX_envs_menu_present": true,
   "autoclose": false,
   "autocomplete": true,
   "bibliofile": "biblio.bib",
   "cite_by": "apalike",
   "current_citInitial": 1,
   "eqLabelWithNumbers": true,
   "eqNumInitial": 1,
   "hotkeys": {
    "equation": "Ctrl-E",
    "itemize": "Ctrl-I"
   },
   "labels_anchors": false,
   "latex_user_defs": false,
   "report_style_numbering": false,
   "user_envs_cfg": false
  }
 },
 "nbformat": 4,
 "nbformat_minor": 4
}
