{
 "cells": [
  {
   "cell_type": "code",
   "execution_count": 33,
   "metadata": {},
   "outputs": [
    {
     "name": "stdout",
     "output_type": "stream",
     "text": [
      "[[7. 4.]\n",
      " [4. 1.]\n",
      " [6. 3.]\n",
      " [8. 6.]\n",
      " [8. 5.]\n",
      " [7. 2.]\n",
      " [5. 3.]\n",
      " [9. 5.]\n",
      " [7. 4.]\n",
      " [8. 2.]]\n"
     ]
    }
   ],
   "source": [
    "import numpy as np\n",
    "from naginterfaces.library import mv\n",
    "matrix = 'Var-Covar'\n",
    "std = 'Eigenvalue'\n",
    "x = np.array([\n",
    "    [7.0, 4.0, 3.0],\n",
    "    [4.0, 1.0, 8.0],\n",
    "    [6.0, 3.0, 5.0],\n",
    "    [8.0, 6.0, 1.0],\n",
    "    [8.0, 5.0, 7.0],\n",
    "    [7.0, 2.0, 9.0],\n",
    "    [5.0, 3.0, 3.0],\n",
    "    [9.0, 5.0, 8.0],\n",
    "    [7.0, 4.0, 5.0],\n",
    "    [8.0, 2.0, 2.0],\n",
    "])\n",
    "\n",
    "x_clean = x[:,:2]"
   ]
  },
  {
   "cell_type": "code",
   "execution_count": 31,
   "metadata": {},
   "outputs": [
    {
     "ename": "NagTypeError",
     "evalue": "(NAG Python function naginterfaces.library.mv.prin_comp, argument x) must be contiguous, in either the C sense, the Fortran sense, or both.",
     "output_type": "error",
     "traceback": [
      "\u001b[0;31m---------------------------------------------------------------------------\u001b[0m",
      "\u001b[0;31mNagTypeError\u001b[0m                              Traceback (most recent call last)",
      "\u001b[0;32m<ipython-input-31-2e5071f71428>\u001b[0m in \u001b[0;36m<module>\u001b[0;34m\u001b[0m\n\u001b[1;32m      7\u001b[0m \u001b[0mnvar\u001b[0m \u001b[0;34m=\u001b[0m \u001b[0misx\u001b[0m\u001b[0;34m.\u001b[0m\u001b[0mcount\u001b[0m\u001b[0;34m(\u001b[0m\u001b[0;36m1\u001b[0m\u001b[0;34m)\u001b[0m\u001b[0;34m\u001b[0m\u001b[0;34m\u001b[0m\u001b[0m\n\u001b[1;32m      8\u001b[0m \u001b[0;34m\u001b[0m\u001b[0m\n\u001b[0;32m----> 9\u001b[0;31m \u001b[0me\u001b[0m \u001b[0;34m=\u001b[0m \u001b[0mmv\u001b[0m\u001b[0;34m.\u001b[0m\u001b[0mprin_comp\u001b[0m\u001b[0;34m(\u001b[0m\u001b[0mmatrix\u001b[0m\u001b[0;34m,\u001b[0m \u001b[0mstd\u001b[0m\u001b[0;34m,\u001b[0m \u001b[0mx_clean\u001b[0m\u001b[0;34m,\u001b[0m \u001b[0misx\u001b[0m\u001b[0;34m,\u001b[0m \u001b[0ms\u001b[0m\u001b[0;34m,\u001b[0m \u001b[0mnvar\u001b[0m\u001b[0;34m)\u001b[0m\u001b[0;34m.\u001b[0m\u001b[0me\u001b[0m\u001b[0;34m\u001b[0m\u001b[0;34m\u001b[0m\u001b[0m\n\u001b[0m\u001b[1;32m     10\u001b[0m \u001b[0;34m\u001b[0m\u001b[0m\n\u001b[1;32m     11\u001b[0m print(' Eigenvalues  Percentage  Cumulative       Chisq          DF'\n",
      "\u001b[0;32m~/anaconda/miniconda3/lib/python3.9/site-packages/naginterfaces/library/mv.py\u001b[0m in \u001b[0;36mprin_comp\u001b[0;34m(matrix, std, x, isx, s, nvar, wt)\u001b[0m\n\u001b[1;32m    364\u001b[0m     \u001b[0mfun_name\u001b[0m \u001b[0;34m=\u001b[0m \u001b[0;34m'naginterfaces.library.mv.prin_comp'\u001b[0m\u001b[0;34m\u001b[0m\u001b[0;34m\u001b[0m\u001b[0m\n\u001b[1;32m    365\u001b[0m \u001b[0;34m\u001b[0m\u001b[0m\n\u001b[0;32m--> 366\u001b[0;31m     _x = _utils._to_ndarray(\n\u001b[0m\u001b[1;32m    367\u001b[0m         \u001b[0;34m{\u001b[0m\u001b[0;34m'fun_name'\u001b[0m\u001b[0;34m:\u001b[0m \u001b[0mfun_name\u001b[0m\u001b[0;34m,\u001b[0m \u001b[0;34m'entity'\u001b[0m\u001b[0;34m:\u001b[0m \u001b[0;34m'x'\u001b[0m\u001b[0;34m}\u001b[0m\u001b[0;34m,\u001b[0m\u001b[0;34m\u001b[0m\u001b[0;34m\u001b[0m\u001b[0m\n\u001b[1;32m    368\u001b[0m         \u001b[0mx\u001b[0m\u001b[0;34m,\u001b[0m\u001b[0;34m\u001b[0m\u001b[0;34m\u001b[0m\u001b[0m\n",
      "\u001b[0;32m~/anaconda/miniconda3/lib/python3.9/site-packages/naginterfaces/library/_utils.py\u001b[0m in \u001b[0;36m_to_ndarray\u001b[0;34m(locus, array, copy, allow_none, exp_rank, exp_shape, exp_class)\u001b[0m\n\u001b[1;32m    167\u001b[0m         \u001b[0mnd_cast\u001b[0m \u001b[0;34m=\u001b[0m \u001b[0m_np\u001b[0m\u001b[0;34m.\u001b[0m\u001b[0mascontiguousarray\u001b[0m\u001b[0;34m(\u001b[0m\u001b[0mnd_cast\u001b[0m\u001b[0;34m)\u001b[0m\u001b[0;34m\u001b[0m\u001b[0;34m\u001b[0m\u001b[0m\n\u001b[1;32m    168\u001b[0m \u001b[0;34m\u001b[0m\u001b[0m\n\u001b[0;32m--> 169\u001b[0;31m     \u001b[0m_check_valid_ndarray\u001b[0m\u001b[0;34m(\u001b[0m\u001b[0mlocus\u001b[0m\u001b[0;34m,\u001b[0m \u001b[0mnd_cast\u001b[0m\u001b[0;34m,\u001b[0m \u001b[0mexp_rank\u001b[0m\u001b[0;34m,\u001b[0m \u001b[0mexp_shape\u001b[0m\u001b[0;34m,\u001b[0m \u001b[0mexp_class\u001b[0m\u001b[0;34m)\u001b[0m\u001b[0;34m\u001b[0m\u001b[0;34m\u001b[0m\u001b[0m\n\u001b[0m\u001b[1;32m    170\u001b[0m \u001b[0;34m\u001b[0m\u001b[0m\n\u001b[1;32m    171\u001b[0m     if (\n",
      "\u001b[0;32m~/anaconda/miniconda3/lib/python3.9/site-packages/naginterfaces/library/_utils.py\u001b[0m in \u001b[0;36m_check_valid_ndarray\u001b[0;34m(locus, array, exp_rank, exp_shape, exp_class)\u001b[0m\n\u001b[1;32m    124\u001b[0m \u001b[0;34m\u001b[0m\u001b[0m\n\u001b[1;32m    125\u001b[0m     \u001b[0;32mif\u001b[0m \u001b[0m_b_utils\u001b[0m\u001b[0;34m.\u001b[0m\u001b[0m_IS_DISCONTIG\u001b[0m\u001b[0;34m(\u001b[0m\u001b[0marray\u001b[0m\u001b[0;34m)\u001b[0m\u001b[0;34m:\u001b[0m\u001b[0;34m\u001b[0m\u001b[0;34m\u001b[0m\u001b[0m\n\u001b[0;32m--> 126\u001b[0;31m         raise _b_utils.NagTypeError(\n\u001b[0m\u001b[1;32m    127\u001b[0m             \u001b[0mlocus\u001b[0m\u001b[0;34m,\u001b[0m\u001b[0;34m\u001b[0m\u001b[0;34m\u001b[0m\u001b[0m\n\u001b[1;32m    128\u001b[0m             \u001b[0m_b_utils\u001b[0m\u001b[0;34m.\u001b[0m\u001b[0m_CONTIG_ERR_STR\u001b[0m\u001b[0;34m,\u001b[0m\u001b[0;34m\u001b[0m\u001b[0;34m\u001b[0m\u001b[0m\n",
      "\u001b[0;31mNagTypeError\u001b[0m: (NAG Python function naginterfaces.library.mv.prin_comp, argument x) must be contiguous, in either the C sense, the Fortran sense, or both."
     ]
    }
   ],
   "source": [
    "isx = [1, 1, 1]\n",
    "\n",
    "# Initialize s to 0.0, as matrix /= 'S'\n",
    "s = [0.0, 0.0, 0.0]\n",
    "\n",
    "# Calculate NVAR\n",
    "nvar = isx.count(1)\n",
    "\n",
    "e = mv.prin_comp(matrix, std, x_clean, isx, s, nvar).e\n",
    "\n",
    "print(' Eigenvalues  Percentage  Cumulative       Chisq          DF'\n",
    "      '         Sig'\n",
    "     )\n",
    "print('               variation   variation')\n",
    "print('[')\n",
    "for i in range(e.shape[0]):\n",
    "    print(\n",
    "        '  ' +\n",
    "        ', '.join(['{:10.4f}']*e.shape[1]).format(*e[i, :])\n",
    "    )\n",
    "print(']')\n"
   ]
  }
 ],
 "metadata": {
  "kernelspec": {
   "display_name": "Python 3",
   "language": "python",
   "name": "python3"
  },
  "language_info": {
   "codemirror_mode": {
    "name": "ipython",
    "version": 3
   },
   "file_extension": ".py",
   "mimetype": "text/x-python",
   "name": "python",
   "nbconvert_exporter": "python",
   "pygments_lexer": "ipython3",
   "version": "3.9.1"
  }
 },
 "nbformat": 4,
 "nbformat_minor": 2
}
