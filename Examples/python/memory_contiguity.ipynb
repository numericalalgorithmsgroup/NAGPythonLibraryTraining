{
 "cells": [
  {
   "cell_type": "markdown",
   "id": "sonic-quebec",
   "metadata": {},
   "source": [
    "Trivial example showcasing array slicing and memory contiguity"
   ]
  },
  {
   "cell_type": "code",
   "execution_count": 10,
   "id": "swedish-audience",
   "metadata": {},
   "outputs": [
    {
     "name": "stdout",
     "output_type": "stream",
     "text": [
      "x contiguous: True\n",
      "x_clean contiguous: False\n",
      "x_clean contiguous: True\n",
      "x_clean contiguous: True\n"
     ]
    }
   ],
   "source": [
    "import numpy as np\n",
    "x = np.array ([\n",
    "  [7.0 , 4.0 , 3.0] ,\n",
    "  [4.0 , 1.0 , 8.0] ,\n",
    "  [1.0 , 2.0 , 5.5] ,\n",
    "  [5.0 , 2.0 , 8.0] ,\n",
    "  [2.0 , 6.0 , 3.0] ])\n",
    "print ('x contiguous:', x.flags.c_contiguous | x.flags.f_contiguous)\n",
    "\n",
    "# Slice array, take first two columns\n",
    "x_clean = x [:, :2]\n",
    "print ('x_clean contiguous:', x_clean.flags.c_contiguous | x_clean.flags.f_contiguous)\n",
    "\n",
    "# Slice array, take first two columns and make sure array is stored column-wise contiguously\n",
    "x_clean = np.asfortranarray(x[:, :2])\n",
    "print ('x_clean contiguous:', x_clean.flags.c_contiguous | x_clean.flags.f_contiguous)\n",
    "\n",
    "# Optionally use row-wise contiguous storage\n",
    "x_clean = np.ascontiguousarray(x[:, :2])\n",
    "print ('x_clean contiguous:', x_clean.flags.c_contiguous | x_clean.flags.f_contiguous)"
   ]
  }
 ],
 "metadata": {
  "kernelspec": {
   "display_name": "Python 3",
   "language": "python",
   "name": "python3"
  },
  "language_info": {
   "codemirror_mode": {
    "name": "ipython",
    "version": 3
   },
   "file_extension": ".py",
   "mimetype": "text/x-python",
   "name": "python",
   "nbconvert_exporter": "python",
   "pygments_lexer": "ipython3",
   "version": "3.9.1"
  }
 },
 "nbformat": 4,
 "nbformat_minor": 5
}
