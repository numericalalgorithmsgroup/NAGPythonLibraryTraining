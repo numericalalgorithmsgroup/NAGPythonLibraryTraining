{
 "cells": [
  {
   "cell_type": "markdown",
   "metadata": {},
   "source": [
    "# A simple example: Solve a system of linear equations\n",
    "\n",
    "Here is an example of how to use the NAG Library to compute the solution of a real system of linear equations, $Ax = b$, where $A$ is an $n$ by $n$ matrix and $x$ and $b$ are $n$-vectors. This variation of the simple example illustrates what happens when an error happens e.i. an exception is thrown due $b$ being of the wrong size.\n",
    "\n",
    "We import the `numpy` package - we will use it to create arrays."
   ]
  },
  {
   "cell_type": "code",
   "execution_count": 47,
   "metadata": {},
   "outputs": [],
   "source": [
    "import numpy as np"
   ]
  },
  {
   "cell_type": "markdown",
   "metadata": {},
   "source": [
    "Create a 2D array to hold our input matrix A, this matrix is rank deficient"
   ]
  },
  {
   "cell_type": "code",
   "execution_count": 48,
   "metadata": {},
   "outputs": [],
   "source": [
    "a = np.array( [[1.80, 2.88, 2.05, -0.89],\n",
    "               [5.25, -2.95, -0.95, -3.80],\n",
    "               [1.58, -2.69, -2.90, -1.04],\n",
    "               [-1.11, -0.66, -0.59, 0.80]])"
   ]
  },
  {
   "cell_type": "markdown",
   "metadata": {},
   "source": [
    "And a 2D array to hold the right-hand side matrix - here we only use a single column"
   ]
  },
  {
   "cell_type": "code",
   "execution_count": 49,
   "metadata": {},
   "outputs": [],
   "source": [
    "b = np.array( [[9.52], [24.35], [0.77], [-6.22]])\n",
    "blen = b.size - 1"
   ]
  },
  {
   "cell_type": "markdown",
   "metadata": {},
   "source": [
    "LAPACK is part of the NAG library, in the lapacklin chapter - import it now"
   ]
  },
  {
   "cell_type": "code",
   "execution_count": 50,
   "metadata": {},
   "outputs": [],
   "source": [
    "from naginterfaces.library import lapacklin"
   ]
  },
  {
   "cell_type": "markdown",
   "metadata": {},
   "source": [
    "We use the `dgesv` function to solve our system of equations. Executing the next command will throw the `NagShapeError` exception informing that the system could not be solved. Additionally, it tells us that the reason for failing is because the matrix $A$ is of the wrong size, it should be of size 3 by 3.\n",
    "\n",
    "We wrap the function with a `try` statement and `catch` the exception so we can gracefully handle the error "
   ]
  },
  {
   "cell_type": "code",
   "execution_count": 51,
   "metadata": {},
   "outputs": [
    {
     "name": "stdout",
     "output_type": "stream",
     "text": [
      "System of linear equations could not be solved! Reason:\n",
      "has shape (4, 4), but must have shape (3, 3)\n",
      "Either extend vector b or reduce matrix A.\n"
     ]
    }
   ],
   "source": [
    "from naginterfaces.base import utils\n",
    "try:\n",
    "    _, ipiv, x = lapacklin.dgesv(a, b[:blen])\n",
    "except utils.NagShapeError as e:\n",
    "    print('System of linear equations could not be solved! Reason:\\n{}'.format(e.msg))\n",
    "    print('Either extend vector b or reduce matrix A.')\n",
    "    # Fix the problem by providing the full lenght of vector b to the function:\n",
    "    blen = b.size\n",
    "\n",
    "_, ipiv, x = lapacklin.dgesv(a, b[:blen])"
   ]
  },
  {
   "cell_type": "markdown",
   "metadata": {},
   "source": [
    "The pivot information used in the LU factorization is in output argument ipiv"
   ]
  },
  {
   "cell_type": "code",
   "execution_count": 52,
   "metadata": {},
   "outputs": [
    {
     "name": "stdout",
     "output_type": "stream",
     "text": [
      "[2 2 3 4]\n"
     ]
    }
   ],
   "source": [
    "print(ipiv)"
   ]
  },
  {
   "cell_type": "markdown",
   "metadata": {},
   "source": [
    "And the solution is in x"
   ]
  },
  {
   "cell_type": "code",
   "execution_count": 53,
   "metadata": {},
   "outputs": [
    {
     "name": "stdout",
     "output_type": "stream",
     "text": [
      "[[ 1.]\n",
      " [-1.]\n",
      " [ 3.]\n",
      " [-5.]]\n"
     ]
    }
   ],
   "source": [
    "print(x)"
   ]
  },
  {
   "cell_type": "markdown",
   "metadata": {},
   "source": [
    "Verify that the solution is correct by multiplying the input A by the output x"
   ]
  },
  {
   "cell_type": "code",
   "execution_count": 54,
   "metadata": {},
   "outputs": [
    {
     "name": "stdout",
     "output_type": "stream",
     "text": [
      "[[ 9.52]\n",
      " [24.35]\n",
      " [ 0.77]\n",
      " [-6.22]]\n"
     ]
    }
   ],
   "source": [
    "res=a@x          # The @ operator for matrix multiplication was introduced in later versions of numpy\n",
    "print(res)       # Otherwise try the numpy.dot function: res=np.dot(a,x)"
   ]
  },
  {
   "cell_type": "markdown",
   "metadata": {},
   "source": [
    "Compare the result with the input vector b"
   ]
  },
  {
   "cell_type": "code",
   "execution_count": 55,
   "metadata": {},
   "outputs": [
    {
     "name": "stdout",
     "output_type": "stream",
     "text": [
      "[[ 0.00000000e+00]\n",
      " [ 0.00000000e+00]\n",
      " [-1.33226763e-15]\n",
      " [ 8.88178420e-16]]\n"
     ]
    }
   ],
   "source": [
    "print(res-b)"
   ]
  }
 ],
 "metadata": {
  "kernelspec": {
   "display_name": "Python 3",
   "language": "python",
   "name": "python3"
  },
  "language_info": {
   "codemirror_mode": {
    "name": "ipython",
    "version": 3
   },
   "file_extension": ".py",
   "mimetype": "text/x-python",
   "name": "python",
   "nbconvert_exporter": "python",
   "pygments_lexer": "ipython3",
   "version": "3.5.2"
  },
  "latex_envs": {
   "LaTeX_envs_menu_present": true,
   "autoclose": false,
   "autocomplete": true,
   "bibliofile": "biblio.bib",
   "cite_by": "apalike",
   "current_citInitial": 1,
   "eqLabelWithNumbers": true,
   "eqNumInitial": 1,
   "hotkeys": {
    "equation": "Ctrl-E",
    "itemize": "Ctrl-I"
   },
   "labels_anchors": false,
   "latex_user_defs": false,
   "report_style_numbering": false,
   "user_envs_cfg": false
  }
 },
 "nbformat": 4,
 "nbformat_minor": 2
}
