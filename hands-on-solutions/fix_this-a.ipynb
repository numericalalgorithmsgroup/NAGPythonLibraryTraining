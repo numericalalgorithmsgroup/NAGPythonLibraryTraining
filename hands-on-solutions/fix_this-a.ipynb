{
 "cells": [
  {
   "cell_type": "markdown",
   "metadata": {},
   "source": [
    "![title](../NAG_logo.png)\n",
    "\n",
    "# Principal component analysis\n",
    "\n",
    "The following program uses the routine `mv.prin_comp` to performs principal component analysis on a variance-covariance matrix, which consists of _the first two columns_ of the following matrix `x`. Use `help` and follow the error messages to fix the program. "
   ]
  },
  {
   "cell_type": "code",
   "execution_count": 1,
   "metadata": {},
   "outputs": [
    {
     "name": "stdout",
     "output_type": "stream",
     "text": [
      " Eigenvalues  Percentage  Cumulative       Chisq          DF         Sig\n",
      "               variation   variation\n",
      "[\n",
      "      4.0247,     0.8346,     0.8346,     4.4546,     2.0000,     0.1078\n",
      "      0.7975,     0.1654,     1.0000,     0.0000,     0.0000,     0.0000\n",
      "]\n"
     ]
    }
   ],
   "source": [
    "import numpy as np\n",
    "from naginterfaces.library import mv\n",
    "\n",
    "matrix = 'Var-Covar'\n",
    "std = 'Eigenvalue'\n",
    "x = np.array([\n",
    "    [7.0, 4.0, 3.0],\n",
    "    [4.0, 1.0, 8.0],\n",
    "    [6.0, 3.0, 5.0],\n",
    "    [8.0, 6.0, 1.0],\n",
    "    [8.0, 5.0, 7.0],\n",
    "    [7.0, 2.0, 9.0],\n",
    "    [5.0, 3.0, 3.0],\n",
    "    [9.0, 5.0, 8.0],\n",
    "    [7.0, 4.0, 5.0],\n",
    "    [8.0, 2.0, 2.0],\n",
    "    \n",
    "], order='F')\n",
    "\n",
    "x_clean = np.asfortranarray(x[:,:2])\n",
    "\n",
    "isx = [1, 1]\n",
    "\n",
    "# Initialize s to 0.0, as matrix /= 'S'\n",
    "s = np.zeros(len(isx))\n",
    "\n",
    "# Calculate NVAR\n",
    "nvar = isx.count(1)\n",
    "\n",
    "# The statistics of principal component analysis\n",
    "e = mv.prin_comp(matrix, std, x_clean, isx, s, nvar).e\n",
    "\n",
    "print(' Eigenvalues  Percentage  Cumulative       Chisq          DF'\n",
    "      '         Sig'\n",
    "     )\n",
    "print('               variation   variation')\n",
    "print('[')\n",
    "for i in range(e.shape[0]):\n",
    "    print(\n",
    "        '  ' +\n",
    "        ', '.join(['{:10.4f}']*e.shape[1]).format(*e[i, :])\n",
    "    )\n",
    "print(']')"
   ]
  }
 ],
 "metadata": {
  "kernelspec": {
   "display_name": "Python 3 (ipykernel)",
   "language": "python",
   "name": "python3"
  },
  "language_info": {
   "codemirror_mode": {
    "name": "ipython",
    "version": 3
   },
   "file_extension": ".py",
   "mimetype": "text/x-python",
   "name": "python",
   "nbconvert_exporter": "python",
   "pygments_lexer": "ipython3",
   "version": "3.8.10"
  }
 },
 "nbformat": 4,
 "nbformat_minor": 2
}
