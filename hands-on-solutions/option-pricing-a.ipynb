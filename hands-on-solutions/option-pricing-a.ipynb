{
 "cells": [
  {
   "cell_type": "markdown",
   "metadata": {},
   "source": [
    "![title](../nag_logo.png)\n",
    "\n",
    "# Exercises - Option Pricing\n",
    "\n",
    "## European Call Options\n",
    "\n",
    "Suppose that I want to write a European call option on 100,000 shares which are currently priced at £4.90. The price of this contract in the Black-Scholes model can be computed using the NAG functions `specfun.opt_bsm_price` and `specfun.opt_bsm_greeks`.  The additional parameters that are required to determine the option price are:\n",
    "- the current risk-free interest rate, r = 5%\n",
    "- the dividend rate, q = 0%\n",
    "- the volatility of the stock price, = 20%\n",
    "- the time to expiry, T = 20 weeks\n",
    "- the strike price, X = £5.00\n",
    "\n",
    "Note that rates in `specfun.opt_bsm_price` and `specfun.opt_bsm_greeks` are continuous annualised rates with 5% being entered as 0.05 and time is in years.\n",
    "\n",
    "Calculate the Delta for this option, i.e. the sensitivity of the option price to small changes in the price of the underlying stock, using `specfun.opt_bsm_greeks`.\n",
    "\n",
    "Suppose that I hedge this option contract by buying 100,000 Delta of the shares in question at the current price of £4.90 by borrowing at the current interest rate of 5%.\n",
    "\n",
    "One week later the share price has risen to £4.95.\n",
    "Calculate my net gain according to the Black-Scholes model as:\n",
    "\n",
    "Net gain = price received for call option – price of call one week later +   \n",
    "&nbsp;&nbsp;&nbsp;&nbsp;&nbsp;&nbsp;&nbsp;&nbsp;&nbsp;&nbsp;&nbsp;&nbsp;&nbsp;&nbsp;&nbsp;&nbsp; price received for underlying stock one week later – repayment of principal used to buy stock with interest   "
   ]
  },
  {
   "cell_type": "code",
   "execution_count": 1,
   "metadata": {},
   "outputs": [
    {
     "name": "stdout",
     "output_type": "stream",
     "text": [
      "Call price: 0.2401\n",
      "Sensitivity of option price w.r.t underlying asset: 0.5216\n"
     ]
    }
   ],
   "source": [
    "from naginterfaces.library import specfun\n",
    "\n",
    "# helper function for printing\n",
    "def f2str(x):\n",
    "    return str(round(x,4))\n",
    "\n",
    "\n",
    "calput = 'C'\n",
    "x = [5.0]\n",
    "s1 = 4.9\n",
    "t = [20.0/52]\n",
    "sigma = 0.2\n",
    "r = 0.05\n",
    "q = 0.0\n",
    "\n",
    "out = specfun.opt_bsm_greeks(calput, x, s1, t, sigma, r, q);\n",
    "p1 = out.p[0][0]; delta = out.delta[0][0]\n",
    "\n",
    "print('Call price: ' + f2str(p1) )\n",
    "print('Sensitivity of option price w.r.t underlying asset: ' + f2str(delta))"
   ]
  },
  {
   "cell_type": "code",
   "execution_count": 2,
   "metadata": {},
   "outputs": [
    {
     "name": "stdout",
     "output_type": "stream",
     "text": [
      "Price of call one week later: 0.2584\n",
      "Net gain: 525.3183\n"
     ]
    }
   ],
   "source": [
    "s2 = 4.95\n",
    "t = [19.0/52]\n",
    "out = specfun.opt_bsm_price(calput, x, s2, t, sigma, r, q)\n",
    "p2 = out[0][0]\n",
    "print('Price of call one week later: ' + f2str(p2) )\n",
    "\n",
    "netgain  = ( p1 - p2 + delta*s2 - delta*s1 * (1 + r/52) ) * 100000\n",
    "\n",
    "print('Net gain: ' + f2str(netgain))"
   ]
  },
  {
   "cell_type": "markdown",
   "metadata": {},
   "source": [
    "## Heston’s Stochastic Volatility Model\n",
    "\n",
    "Heston’s Stochastic Volatility Model for a European option has a closed form solution in the sense that it can be represented as an integral. However, this must be evaluated numerically in order to give option prices or for the calibration of parameters from market data.\n",
    "\n",
    "The solution given by Heston involves complex-valued functions with branch cuts and is not straightforward to evaluate numerically. In particular, errors occur when calculating the Heston prices for options with long times to maturity. Albrecher *et al.* discuss how to avoid errors when using Heston’s model.\n",
    "\n",
    "A simple check of a function for evaluating the Heston option price can be made by using the parameters specified by Albrecher *et al.* for times to expiry of from 1 to 15 years. When the calculation is handled correctly, plotting the prices will show a\n",
    "smooth monotonically increasing function of time to expiry, T.\n",
    "\n",
    "In the NAG function for Heston’s Model (`specfun.opt_heston_price`) choose a Call option and set:\n",
    "- Strike, X = 100\n",
    "- Spot, S = 100\n",
    "- Time, T = 1, 2, 3, …, 15\n",
    "- Volatility of volatility, sigmav = 0.5751\n",
    "- Mean reversion rate, kappa =1.5768\n",
    "- Correlation, rho = -0.5711\n",
    "- Current variance, var0 = 0.0175\n",
    "- Long run variance, eta = 0.0398\n",
    "- Risk-free interest rate, r = 0.025\n",
    "- Dividend yield, q = 0.0\n",
    "- Risk-aversion parameter, gamma = 1.0\n",
    "\n",
    "Plot the output prices."
   ]
  },
  {
   "cell_type": "code",
   "execution_count": 3,
   "metadata": {},
   "outputs": [
    {
     "data": {
      "image/png": "[encoded data removed]",
      "text/plain": [
       "<Figure size 432x288 with 1 Axes>"
      ]
     },
     "metadata": {
      "needs_background": "light"
     },
     "output_type": "display_data"
    }
   ],
   "source": [
    "import numpy as np\n",
    "from matplotlib import pyplot as plt\n",
    "\n",
    "x = [100.0]\n",
    "s = 100.0\n",
    "t = np.arange(1.0, 16.0)\n",
    "sigmav = 0.5751\n",
    "kappa =1.5768\n",
    "corr = -0.5711\n",
    "var0 = 0.0175\n",
    "eta = 0.0398\n",
    "r = 0.025\n",
    "q = 0.0\n",
    "gamma = 1.0\n",
    "\n",
    "p = specfun.opt_heston_price(calput, x, s, t, sigmav, kappa, corr, var0, eta, gamma, r, q);\n",
    "                                     \n",
    "plt.plot(t,p[0,:])\n",
    "plt.xlabel('Time')\n",
    "plt.ylabel('Price of Call')\n",
    "\n",
    "# global option for font size\n",
    "plt.rcParams.update({'font.size': 18})\n",
    "plt.show()"
   ]
  }
 ],
 "metadata": {
  "kernelspec": {
   "display_name": "Python 3",
   "language": "python",
   "name": "python3"
  },
  "language_info": {
   "codemirror_mode": {
    "name": "ipython",
    "version": 3
   },
   "file_extension": ".py",
   "mimetype": "text/x-python",
   "name": "python",
   "nbconvert_exporter": "python",
   "pygments_lexer": "ipython3",
   "version": "3.8.0"
  }
 },
 "nbformat": 4,
 "nbformat_minor": 2
}
